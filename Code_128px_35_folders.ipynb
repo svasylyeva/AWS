{
  "nbformat": 4,
  "nbformat_minor": 5,
  "metadata": {
    "kernelspec": {
      "display_name": "Python 3",
      "language": "python",
      "name": "python3"
    },
    "language_info": {
      "codemirror_mode": {
        "name": "ipython",
        "version": 3
      },
      "file_extension": ".py",
      "mimetype": "text/x-python",
      "name": "python",
      "nbconvert_exporter": "python",
      "pygments_lexer": "ipython3",
      "version": "3.8.5"
    },
    "colab": {
      "name": "Code_128px_35_folders.ipynb",
      "provenance": [],
      "collapsed_sections": [],
      "include_colab_link": true
    },
    "accelerator": "GPU"
  },
  "cells": [
    {
      "cell_type": "markdown",
      "metadata": {
        "id": "view-in-github",
        "colab_type": "text"
      },
      "source": [
        "<a href=\"https://colab.research.google.com/github/svasylyeva/AWS/blob/main/Code_128px_35_folders.ipynb\" target=\"_parent\"><img src=\"https://colab.research.google.com/assets/colab-badge.svg\" alt=\"Open In Colab\"/></a>"
      ]
    },
    {
      "cell_type": "code",
      "metadata": {
        "id": "9eOQtFLZrad6"
      },
      "source": [
        "# Importing the Keras libraries and packages\n",
        "from matplotlib import pyplot\n",
        "from keras.models import Sequential\n",
        "from keras.layers import Conv2D\n",
        "from keras.layers import MaxPooling2D\n",
        "from keras.layers import Flatten\n",
        "from keras.layers import Dense\n",
        "from keras.layers.core import Dense, Dropout, Activation, Flatten\n",
        "\n",
        "from keras.callbacks import EarlyStopping\n",
        "from keras.callbacks import ModelCheckpoint\n",
        "import warnings\n",
        "warnings.filterwarnings(\"ignore\")\n",
        "import numpy as np\n",
        "import tensorflow\n",
        "from sklearn.metrics import classification_report, confusion_matrix\n",
        "from keras.optimizers import SGD\n",
        "from keras.preprocessing.image import ImageDataGenerator\n",
        "from numpy.random import seed\n",
        "import os\n",
        "import random\n",
        "from keras.optimizers import Adam\n",
        "from keras.layers.normalization import BatchNormalization "
      ],
      "id": "9eOQtFLZrad6",
      "execution_count": 4,
      "outputs": []
    },
    {
      "cell_type": "code",
      "metadata": {
        "id": "tPBH-tJbrad_"
      },
      "source": [
        "# Part 1 - Develop a Baseline CNN Model\n",
        "\n",
        "# A baseline model will show us a minimal model performance \n",
        "# to which other models will be compared\n",
        "\n",
        "\n",
        "img_rows = 128\n",
        "img_cols = 128\n",
        "epochs = 35\n",
        "batch_size = 64\n",
        "num_of_train_samples = 3360\n",
        "num_of_test_samples = 1440"
      ],
      "id": "tPBH-tJbrad_",
      "execution_count": 5,
      "outputs": []
    },
    {
      "cell_type": "code",
      "metadata": {
        "id": "GPjNiJbdrad_"
      },
      "source": [
        "# plot diagnostic learning curves\n",
        "def graph_accuracy_loss(history):\n",
        "    pyplot.figure(figsize=(10,5))\n",
        "    # plot loss\n",
        "    pyplot.subplot(121)\n",
        "    pyplot.title('Entropy Loss')\n",
        "    pyplot.plot(history.history['loss'], color='green', label='train')\n",
        "    pyplot.plot(history.history['val_loss'], color='blue', label='test')\n",
        "    pyplot.legend()\n",
        "    # plot accuracy\n",
        "    pyplot.subplot(122)\n",
        "    pyplot.title('\\nClassification Accuracy')\n",
        "    pyplot.plot(history.history['accuracy'], color='green', label='train')\n",
        "    pyplot.plot(history.history['val_accuracy'], color='blue', label='test')\n",
        "    pyplot.legend()\n",
        "    # save plot to file\n",
        "#     filename = sys.argv[0].split('/')[-1]\n",
        "#     pyplot.savefig(filename + '_plot.png')\n",
        "#     pyplot.close()\n",
        "    pyplot.show()"
      ],
      "id": "GPjNiJbdrad_",
      "execution_count": 6,
      "outputs": []
    },
    {
      "cell_type": "code",
      "metadata": {
        "id": "jEzF_SqcraeA"
      },
      "source": [
        "# Function that calculates Confusion Matrix and shows Classification Report\n",
        "def class_report(test_set, model):\n",
        "    Y_pred = model.predict(test_set, num_of_test_samples // batch_size + 1)\n",
        "    y_pred = np.argmax(Y_pred, axis=1)\n",
        "    print('Confusion Matrix')\n",
        "    print(confusion_matrix(test_set.classes, y_pred))\n",
        "    print('Classification Report')\n",
        "    target_names = list(training_set.class_indices.keys())\n",
        "    print(classification_report(test_set.classes, y_pred, target_names=target_names))"
      ],
      "id": "jEzF_SqcraeA",
      "execution_count": 7,
      "outputs": []
    },
    {
      "cell_type": "code",
      "metadata": {
        "id": "oxrilIDpraeA",
        "outputId": "b2a3cc8d-fc4d-41fe-94dc-aa55e44d166b"
      },
      "source": [
        "# Import and work with splitfolders \n",
        "#link - https://pypi.org/project/split-folders/\n",
        "\n",
        "# Divide all artists folders to train and val folders\n",
        "splitfolders.ratio(\"./artists\", output=\"./\", seed=42 , ratio=(.7, .3))"
      ],
      "id": "oxrilIDpraeA",
      "execution_count": null,
      "outputs": [
        {
          "output_type": "stream",
          "text": [
            "Copying files: 4800 files [00:04, 968.16 files/s] \n"
          ],
          "name": "stderr"
        }
      ]
    },
    {
      "cell_type": "code",
      "metadata": {
        "id": "ixtVXbpLraeB",
        "outputId": "8b4aa794-816c-479f-ba4d-ead046f210a9"
      },
      "source": [
        "# Prepare the data. Instanciate ImageDataGenerator that scalse the pixel values to the range of 0-1\n",
        "# We don't use data augmentation, dropout etc for the Baseline models to check a minimal model performance \n",
        "datagen = ImageDataGenerator(rescale=1. / 255)\n",
        "\n",
        "training_set = datagen.flow_from_directory('train', \n",
        "                                                 target_size=(img_rows, img_cols),\n",
        "                                                 batch_size=batch_size,\n",
        "                                                 class_mode='categorical')\n",
        "\n",
        "test_set = datagen.flow_from_directory('val',\n",
        "                                            target_size=(img_rows, img_cols),\n",
        "                                            batch_size=batch_size, shuffle = False,\n",
        "                                            class_mode='categorical')"
      ],
      "id": "ixtVXbpLraeB",
      "execution_count": null,
      "outputs": [
        {
          "output_type": "stream",
          "text": [
            "Found 3360 images belonging to 6 classes.\n",
            "Found 1440 images belonging to 6 classes.\n"
          ],
          "name": "stdout"
        }
      ]
    },
    {
      "cell_type": "code",
      "metadata": {
        "id": "1tmJOqWyraeB",
        "outputId": "b8223b97-5914-47b8-ec2c-a45f81859927"
      },
      "source": [
        "print(test_set.class_indices)"
      ],
      "id": "1tmJOqWyraeB",
      "execution_count": null,
      "outputs": [
        {
          "output_type": "stream",
          "text": [
            "{'Matisse': 0, 'Monet': 1, 'Pissaro': 2, 'Renoir': 3, 'Sargent': 4, 'VanGogh': 5}\n"
          ],
          "name": "stdout"
        }
      ]
    },
    {
      "cell_type": "code",
      "metadata": {
        "id": "Zh-Q77j_raeB"
      },
      "source": [
        "# VGG Blocks\n",
        "# The basic building block of classic CNNs is a sequence of the following: \n",
        "#     (i) a convolutional layer with padding to maintain the resolution, \n",
        "#     (ii) a nonlinearity such as a ReLU, \n",
        "#     (iii) a pooling layer such as a max pooling layer. \n",
        "# One VGG block consists of a sequence of convolutional layers, \n",
        "# followed by a max pooling layer for spatial downsampling. \n",
        "# In the original VGG paper [Simonyan & Zisserman, 2014], the authors employed convolutions with  3×3  kernels \n",
        "# with padding of 1 (keeping height and width) \n",
        "# and  2×2  max pooling with stride of 2 (halving the resolution after each block). "
      ],
      "id": "Zh-Q77j_raeB",
      "execution_count": null,
      "outputs": []
    },
    {
      "cell_type": "markdown",
      "metadata": {
        "id": "AXqFtJVpraeC"
      },
      "source": [
        "<h3>Baseline model with 1 VGG block without dropout</h3>\n"
      ],
      "id": "AXqFtJVpraeC"
    },
    {
      "cell_type": "code",
      "metadata": {
        "id": "nx2o9ydRraeC"
      },
      "source": [
        "# Define CNN model with one VGG-style block\n",
        "# The 1-block VGG model has a single convolutional layer with 32 filters \n",
        "# followed by a max pooling layer\n",
        "def baseline_model_1():\n",
        "    #reset_random_seeds()\n",
        "    model = Sequential()\n",
        "    \n",
        "    model.add(Conv2D(32, (3, 3), activation='relu', kernel_initializer='he_uniform', padding='same', \n",
        "                     input_shape=(img_rows, img_cols, 3)))\n",
        "    model.add(Conv2D(32,(3,3), activation = 'relu', kernel_initializer = 'he_uniform', padding = 'same'))\n",
        "    model.add(MaxPooling2D((2, 2), strides=(2, 2)))\n",
        "    \n",
        "    model.add(Flatten())\n",
        "    model.add(Dense(128, activation='relu', \n",
        "                    kernel_initializer='he_uniform'))\n",
        "    model.add(Dense(6, activation='softmax'))\n",
        "    # Compilation of a model\n",
        "    opt = SGD(lr=0.001, momentum=0.9) # Gradient descent (with momentum) optimizer.\n",
        "    model.compile(optimizer=opt, loss='categorical_crossentropy', metrics=['accuracy'])\n",
        "    return model"
      ],
      "id": "nx2o9ydRraeC",
      "execution_count": null,
      "outputs": []
    },
    {
      "cell_type": "code",
      "metadata": {
        "id": "u2frTa3HraeC",
        "outputId": "878f2e3a-5d04-4b6b-934e-9231f99644fc"
      },
      "source": [
        "# The model will be fit for 35 epochs - to check model's accuracy\n",
        "# Define model\n",
        "model = baseline_model_1()\n",
        "# Fit model\n",
        "history = model.fit_generator(training_set, \n",
        "                              steps_per_epoch=len(training_set), # = num_of_train_samples // batch_size +1\n",
        "                              validation_data=test_set, \n",
        "                              validation_steps=len(test_set), # = num_of_test_samples // batch_size +1\n",
        "                              epochs= epochs)"
      ],
      "id": "u2frTa3HraeC",
      "execution_count": null,
      "outputs": [
        {
          "output_type": "stream",
          "text": [
            "Epoch 1/35\n",
            "53/53 [==============================] - 74s 1s/step - loss: 1.9967 - accuracy: 0.2219 - val_loss: 1.6657 - val_accuracy: 0.3076\n",
            "Epoch 2/35\n",
            "53/53 [==============================] - 56s 1s/step - loss: 1.5780 - accuracy: 0.3796 - val_loss: 1.4520 - val_accuracy: 0.4535\n",
            "Epoch 3/35\n",
            "53/53 [==============================] - 56s 1s/step - loss: 1.4486 - accuracy: 0.4522 - val_loss: 1.4351 - val_accuracy: 0.4556\n",
            "Epoch 4/35\n",
            "53/53 [==============================] - 56s 1s/step - loss: 1.3848 - accuracy: 0.4798 - val_loss: 1.3873 - val_accuracy: 0.4653\n",
            "Epoch 5/35\n",
            "53/53 [==============================] - 58s 1s/step - loss: 1.2973 - accuracy: 0.5251 - val_loss: 1.3587 - val_accuracy: 0.4847\n",
            "Epoch 6/35\n",
            "53/53 [==============================] - 56s 1s/step - loss: 1.2096 - accuracy: 0.5822 - val_loss: 1.3505 - val_accuracy: 0.4938\n",
            "Epoch 7/35\n",
            "53/53 [==============================] - 54s 1s/step - loss: 1.1968 - accuracy: 0.5805 - val_loss: 1.3719 - val_accuracy: 0.4708\n",
            "Epoch 8/35\n",
            "53/53 [==============================] - 55s 1s/step - loss: 1.1696 - accuracy: 0.5686 - val_loss: 1.3938 - val_accuracy: 0.4778\n",
            "Epoch 9/35\n",
            "53/53 [==============================] - 56s 1s/step - loss: 1.0505 - accuracy: 0.6297 - val_loss: 1.2957 - val_accuracy: 0.5153\n",
            "Epoch 10/35\n",
            "53/53 [==============================] - 56s 1s/step - loss: 0.9759 - accuracy: 0.6607 - val_loss: 1.3563 - val_accuracy: 0.4826\n",
            "Epoch 11/35\n",
            "53/53 [==============================] - 55s 1s/step - loss: 0.8426 - accuracy: 0.7157 - val_loss: 1.3481 - val_accuracy: 0.4924\n",
            "Epoch 12/35\n",
            "53/53 [==============================] - 58s 1s/step - loss: 0.7759 - accuracy: 0.7403 - val_loss: 1.3094 - val_accuracy: 0.5167\n",
            "Epoch 13/35\n",
            "53/53 [==============================] - 56s 1s/step - loss: 0.6528 - accuracy: 0.8123 - val_loss: 1.3651 - val_accuracy: 0.5083\n",
            "Epoch 14/35\n",
            "53/53 [==============================] - 56s 1s/step - loss: 0.5667 - accuracy: 0.8305 - val_loss: 1.4311 - val_accuracy: 0.4979\n",
            "Epoch 15/35\n",
            "53/53 [==============================] - 55s 1s/step - loss: 0.4954 - accuracy: 0.8658 - val_loss: 1.4173 - val_accuracy: 0.5021\n",
            "Epoch 16/35\n",
            "53/53 [==============================] - 56s 1s/step - loss: 0.3859 - accuracy: 0.9068 - val_loss: 1.3525 - val_accuracy: 0.5222\n",
            "Epoch 17/35\n",
            "53/53 [==============================] - 55s 1s/step - loss: 0.2889 - accuracy: 0.9393 - val_loss: 1.4936 - val_accuracy: 0.4979\n",
            "Epoch 18/35\n",
            "53/53 [==============================] - 56s 1s/step - loss: 0.2481 - accuracy: 0.9529 - val_loss: 1.4528 - val_accuracy: 0.5146\n",
            "Epoch 19/35\n",
            "53/53 [==============================] - 58s 1s/step - loss: 0.2184 - accuracy: 0.9562 - val_loss: 1.5991 - val_accuracy: 0.4993\n",
            "Epoch 20/35\n",
            "53/53 [==============================] - 56s 1s/step - loss: 0.1777 - accuracy: 0.9690 - val_loss: 1.5141 - val_accuracy: 0.5264\n",
            "Epoch 21/35\n",
            "53/53 [==============================] - 55s 1s/step - loss: 0.1144 - accuracy: 0.9878 - val_loss: 1.5931 - val_accuracy: 0.5188\n",
            "Epoch 22/35\n",
            "53/53 [==============================] - 55s 1s/step - loss: 0.0858 - accuracy: 0.9931 - val_loss: 1.7094 - val_accuracy: 0.5056\n",
            "Epoch 23/35\n",
            "53/53 [==============================] - 56s 1s/step - loss: 0.0757 - accuracy: 0.9901 - val_loss: 1.7247 - val_accuracy: 0.5167\n",
            "Epoch 24/35\n",
            "53/53 [==============================] - 56s 1s/step - loss: 0.0623 - accuracy: 0.9951 - val_loss: 1.6895 - val_accuracy: 0.5257\n",
            "Epoch 25/35\n",
            "53/53 [==============================] - 55s 1s/step - loss: 0.0427 - accuracy: 0.9976 - val_loss: 1.7745 - val_accuracy: 0.5111\n",
            "Epoch 26/35\n",
            "53/53 [==============================] - 56s 1s/step - loss: 0.0357 - accuracy: 0.9998 - val_loss: 1.7909 - val_accuracy: 0.5132\n",
            "Epoch 27/35\n",
            "53/53 [==============================] - 58s 1s/step - loss: 0.0328 - accuracy: 0.9992 - val_loss: 1.8464 - val_accuracy: 0.5063\n",
            "Epoch 28/35\n",
            "53/53 [==============================] - 57s 1s/step - loss: 0.0295 - accuracy: 0.9982 - val_loss: 1.8450 - val_accuracy: 0.5181\n",
            "Epoch 29/35\n",
            "53/53 [==============================] - 57s 1s/step - loss: 0.0206 - accuracy: 1.0000 - val_loss: 1.8514 - val_accuracy: 0.5104\n",
            "Epoch 30/35\n",
            "53/53 [==============================] - 58s 1s/step - loss: 0.0198 - accuracy: 1.0000 - val_loss: 1.8901 - val_accuracy: 0.5097\n",
            "Epoch 31/35\n",
            "53/53 [==============================] - 56s 1s/step - loss: 0.0180 - accuracy: 1.0000 - val_loss: 1.9573 - val_accuracy: 0.5153\n",
            "Epoch 32/35\n",
            "53/53 [==============================] - 56s 1s/step - loss: 0.0138 - accuracy: 1.0000 - val_loss: 1.9839 - val_accuracy: 0.5097\n",
            "Epoch 33/35\n",
            "53/53 [==============================] - 56s 1s/step - loss: 0.0142 - accuracy: 1.0000 - val_loss: 1.9717 - val_accuracy: 0.5097\n",
            "Epoch 34/35\n",
            "53/53 [==============================] - 56s 1s/step - loss: 0.0125 - accuracy: 1.0000 - val_loss: 2.0161 - val_accuracy: 0.5069\n",
            "Epoch 35/35\n",
            "53/53 [==============================] - 54s 1s/step - loss: 0.0110 - accuracy: 1.0000 - val_loss: 2.0137 - val_accuracy: 0.5118\n"
          ],
          "name": "stdout"
        }
      ]
    },
    {
      "cell_type": "code",
      "metadata": {
        "id": "2GbIY1I0raeD",
        "outputId": "f730ccfc-36a0-4f13-95bf-7004578f115b"
      },
      "source": [
        "# Evaluate model\n",
        "_, acc = model.evaluate_generator(test_set, steps=len(test_set), verbose=0)\n",
        "print(\"Accuracy: %.4f\" % (acc * 100.0))"
      ],
      "id": "2GbIY1I0raeD",
      "execution_count": null,
      "outputs": [
        {
          "output_type": "stream",
          "text": [
            "Accuracy: 51.1806\n"
          ],
          "name": "stdout"
        }
      ]
    },
    {
      "cell_type": "code",
      "metadata": {
        "id": "vDZ4pFxuraeD",
        "outputId": "90a135f6-33af-429e-dcfb-3fd32b63e6a6"
      },
      "source": [
        "# Build graphs\n",
        "graph_accuracy_loss(history)"
      ],
      "id": "vDZ4pFxuraeD",
      "execution_count": null,
      "outputs": [
        {
          "output_type": "display_data",
          "data": {
            "image/png": "[encoded data removed]",
            "text/plain": [
              "<Figure size 720x360 with 2 Axes>"
            ]
          },
          "metadata": {
            "tags": [],
            "needs_background": "light"
          }
        }
      ]
    },
    {
      "cell_type": "code",
      "metadata": {
        "id": "FLU-QgJ7raeE",
        "outputId": "121a6c0e-0bf1-4ee5-86ba-5b74df50eaf9"
      },
      "source": [
        "class_report(test_set, model)"
      ],
      "id": "FLU-QgJ7raeE",
      "execution_count": null,
      "outputs": [
        {
          "output_type": "stream",
          "text": [
            "Confusion Matrix\n",
            "[[109  37  15  32  21  26]\n",
            " [ 16 129  40   8  11  36]\n",
            " [ 12  33 134  24  11  26]\n",
            " [ 17  14  20 139  22  28]\n",
            " [ 38  19  20  33 110  20]\n",
            " [ 18  22  36  31  17 116]]\n",
            "Classification Report\n",
            "              precision    recall  f1-score   support\n",
            "\n",
            "     Matisse       0.52      0.45      0.48       240\n",
            "       Monet       0.51      0.54      0.52       240\n",
            "     Pissaro       0.51      0.56      0.53       240\n",
            "      Renoir       0.52      0.58      0.55       240\n",
            "     Sargent       0.57      0.46      0.51       240\n",
            "     VanGogh       0.46      0.48      0.47       240\n",
            "\n",
            "    accuracy                           0.51      1440\n",
            "   macro avg       0.51      0.51      0.51      1440\n",
            "weighted avg       0.51      0.51      0.51      1440\n",
            "\n"
          ],
          "name": "stdout"
        }
      ]
    },
    {
      "cell_type": "code",
      "metadata": {
        "id": "IfcWW98craeE"
      },
      "source": [
        "# As we see our 1-vgg block model is over-fitting on a training set"
      ],
      "id": "IfcWW98craeE",
      "execution_count": null,
      "outputs": []
    },
    {
      "cell_type": "markdown",
      "metadata": {
        "id": "xF1XnYtyraeE"
      },
      "source": [
        "<h3>Baseline model with 2 VGG blocks without dropout</h3>\n"
      ],
      "id": "xF1XnYtyraeE"
    },
    {
      "cell_type": "code",
      "metadata": {
        "id": "sVZvY2SJraeE"
      },
      "source": [
        "# Define CNN model with two VGG-style blocks\n",
        "def baseline_model_2():\n",
        "   # reset_random_seeds()\n",
        "    model = Sequential()\n",
        "# 1st block    \n",
        "    model.add(Conv2D(32, (3, 3), activation='relu', kernel_initializer='he_uniform', padding='same', \n",
        "                     input_shape=(img_rows, img_cols, 3)))\n",
        "    model.add(Conv2D(32,(3,3), activation = 'relu', kernel_initializer = 'he_uniform', padding = 'same'))\n",
        "    model.add(MaxPooling2D((2, 2), strides=(2, 2)))\n",
        "\n",
        "    # 2d block    \n",
        "    model.add(Conv2D(64, (3, 3), activation='relu', kernel_initializer='he_uniform', padding='same'))\n",
        "    model.add(Conv2D(64,(3,3), activation = 'relu', kernel_initializer = 'he_uniform', padding = 'same'))\n",
        "    model.add(MaxPooling2D((2, 2), strides=(2, 2)))\n",
        "   \n",
        "    model.add(Flatten())\n",
        "    model.add(Dense(128, activation='relu', kernel_initializer='he_uniform'))\n",
        "    model.add(Dense(6, activation='softmax'))\n",
        "    # Compilation of a model\n",
        "    opt = SGD(lr=0.001, momentum=0.9) # Gradient descent (with momentum) optimizer.\n",
        "    model.compile(optimizer=opt, loss='categorical_crossentropy', metrics=['accuracy'])\n",
        "    return model"
      ],
      "id": "sVZvY2SJraeE",
      "execution_count": null,
      "outputs": []
    },
    {
      "cell_type": "code",
      "metadata": {
        "id": "S9-LiFJlraeE",
        "outputId": "0e4755a9-c940-4b87-bcf6-b910e7611184"
      },
      "source": [
        "# The model will be fit for 30 epochs \n",
        "# define model\n",
        "model = baseline_model_2()\n",
        "# fit model\n",
        "history = model.fit_generator(training_set, steps_per_epoch=len(training_set),\n",
        "                              validation_data=test_set, \n",
        "                              validation_steps=len(test_set), \n",
        "                              epochs= 25)"
      ],
      "id": "S9-LiFJlraeE",
      "execution_count": null,
      "outputs": [
        {
          "output_type": "stream",
          "text": [
            "Epoch 1/25\n",
            "53/53 [==============================] - 95s 2s/step - loss: 1.8804 - accuracy: 0.2391 - val_loss: 1.5255 - val_accuracy: 0.4465\n",
            "Epoch 2/25\n",
            "53/53 [==============================] - 93s 2s/step - loss: 1.4949 - accuracy: 0.4416 - val_loss: 1.5273 - val_accuracy: 0.3806\n",
            "Epoch 3/25\n",
            "53/53 [==============================] - 94s 2s/step - loss: 1.4085 - accuracy: 0.4545 - val_loss: 1.3900 - val_accuracy: 0.4938\n",
            "Epoch 4/25\n",
            "53/53 [==============================] - 94s 2s/step - loss: 1.3073 - accuracy: 0.5134 - val_loss: 1.3347 - val_accuracy: 0.4944\n",
            "Epoch 5/25\n",
            "53/53 [==============================] - 92s 2s/step - loss: 1.1953 - accuracy: 0.5544 - val_loss: 1.3934 - val_accuracy: 0.5201\n",
            "Epoch 6/25\n",
            "53/53 [==============================] - 93s 2s/step - loss: 1.1147 - accuracy: 0.5967 - val_loss: 1.2434 - val_accuracy: 0.5465\n",
            "Epoch 7/25\n",
            "53/53 [==============================] - 92s 2s/step - loss: 0.9786 - accuracy: 0.6673 - val_loss: 1.3812 - val_accuracy: 0.4646\n",
            "Epoch 8/25\n",
            "53/53 [==============================] - 94s 2s/step - loss: 0.9304 - accuracy: 0.6755 - val_loss: 1.3317 - val_accuracy: 0.5049\n",
            "Epoch 9/25\n",
            "53/53 [==============================] - 96s 2s/step - loss: 0.8284 - accuracy: 0.7135 - val_loss: 1.2739 - val_accuracy: 0.5535\n",
            "Epoch 10/25\n",
            "53/53 [==============================] - 93s 2s/step - loss: 0.6931 - accuracy: 0.7782 - val_loss: 1.3242 - val_accuracy: 0.5340\n",
            "Epoch 11/25\n",
            "53/53 [==============================] - 93s 2s/step - loss: 0.5722 - accuracy: 0.8143 - val_loss: 1.3172 - val_accuracy: 0.5347\n",
            "Epoch 12/25\n",
            "53/53 [==============================] - 93s 2s/step - loss: 0.4839 - accuracy: 0.8517 - val_loss: 1.6531 - val_accuracy: 0.4993\n",
            "Epoch 13/25\n",
            "53/53 [==============================] - 92s 2s/step - loss: 0.3774 - accuracy: 0.8893 - val_loss: 1.4228 - val_accuracy: 0.5465\n",
            "Epoch 14/25\n",
            "53/53 [==============================] - 93s 2s/step - loss: 0.2908 - accuracy: 0.9156 - val_loss: 1.6943 - val_accuracy: 0.5201\n",
            "Epoch 15/25\n",
            "53/53 [==============================] - 95s 2s/step - loss: 0.2100 - accuracy: 0.9427 - val_loss: 1.7262 - val_accuracy: 0.5014\n",
            "Epoch 16/25\n",
            "53/53 [==============================] - 93s 2s/step - loss: 0.1751 - accuracy: 0.9587 - val_loss: 1.7481 - val_accuracy: 0.5431\n",
            "Epoch 17/25\n",
            "53/53 [==============================] - 95s 2s/step - loss: 0.0892 - accuracy: 0.9870 - val_loss: 1.8935 - val_accuracy: 0.5535\n",
            "Epoch 18/25\n",
            "53/53 [==============================] - 92s 2s/step - loss: 0.0653 - accuracy: 0.9878 - val_loss: 2.0259 - val_accuracy: 0.5549\n",
            "Epoch 19/25\n",
            "53/53 [==============================] - 93s 2s/step - loss: 0.0373 - accuracy: 0.9966 - val_loss: 2.2792 - val_accuracy: 0.5312\n",
            "Epoch 20/25\n",
            "53/53 [==============================] - 97s 2s/step - loss: 0.0382 - accuracy: 0.9974 - val_loss: 2.1962 - val_accuracy: 0.5424\n",
            "Epoch 21/25\n",
            "53/53 [==============================] - 93s 2s/step - loss: 0.0223 - accuracy: 0.9993 - val_loss: 2.2241 - val_accuracy: 0.5500\n",
            "Epoch 22/25\n",
            "53/53 [==============================] - 94s 2s/step - loss: 0.0176 - accuracy: 0.9990 - val_loss: 2.3137 - val_accuracy: 0.5521\n",
            "Epoch 23/25\n",
            "53/53 [==============================] - 92s 2s/step - loss: 0.0102 - accuracy: 0.9996 - val_loss: 2.3934 - val_accuracy: 0.5444\n",
            "Epoch 24/25\n",
            "53/53 [==============================] - 94s 2s/step - loss: 0.0074 - accuracy: 1.0000 - val_loss: 2.4437 - val_accuracy: 0.5333\n",
            "Epoch 25/25\n",
            "53/53 [==============================] - 96s 2s/step - loss: 0.0080 - accuracy: 1.0000 - val_loss: 2.5427 - val_accuracy: 0.5451\n"
          ],
          "name": "stdout"
        }
      ]
    },
    {
      "cell_type": "code",
      "metadata": {
        "id": "UnwSnXgXraeF",
        "outputId": "8bf8ce29-5f21-4e27-d678-b7db631a3184"
      },
      "source": [
        "# evaluate model\n",
        "_, acc = model.evaluate_generator(test_set, steps=len(test_set), verbose=0)\n",
        "print(\"Accuracy: %.4f\" % (acc * 100.0))"
      ],
      "id": "UnwSnXgXraeF",
      "execution_count": null,
      "outputs": [
        {
          "output_type": "stream",
          "text": [
            "Accuracy: 54.5139\n"
          ],
          "name": "stdout"
        }
      ]
    },
    {
      "cell_type": "code",
      "metadata": {
        "id": "cZB2t32rraeF",
        "outputId": "79ca8a73-c2a3-44ea-e25a-fcf15ce0c338"
      },
      "source": [
        "class_report(test_set, model)"
      ],
      "id": "cZB2t32rraeF",
      "execution_count": null,
      "outputs": [
        {
          "output_type": "stream",
          "text": [
            "Confusion Matrix\n",
            "[[147   8  15  30  19  21]\n",
            " [ 23 121  45  16  16  19]\n",
            " [ 24  17 157  18   8  16]\n",
            " [ 32   9  20 139  24  16]\n",
            " [ 54   7  26  29 112  12]\n",
            " [ 27  10  49  25  20 109]]\n",
            "Classification Report\n",
            "              precision    recall  f1-score   support\n",
            "\n",
            "     Matisse       0.48      0.61      0.54       240\n",
            "       Monet       0.70      0.50      0.59       240\n",
            "     Pissaro       0.50      0.65      0.57       240\n",
            "      Renoir       0.54      0.58      0.56       240\n",
            "     Sargent       0.56      0.47      0.51       240\n",
            "     VanGogh       0.56      0.45      0.50       240\n",
            "\n",
            "    accuracy                           0.55      1440\n",
            "   macro avg       0.56      0.55      0.54      1440\n",
            "weighted avg       0.56      0.55      0.54      1440\n",
            "\n"
          ],
          "name": "stdout"
        }
      ]
    },
    {
      "cell_type": "code",
      "metadata": {
        "id": "Yt5CGzWMraeF",
        "outputId": "1d72db22-b199-4a91-bf4f-bfbfab55f9df"
      },
      "source": [
        "# Build graphs\n",
        "graph_accuracy_loss(histvory)"
      ],
      "id": "Yt5CGzWMraeF",
      "execution_count": null,
      "outputs": [
        {
          "output_type": "display_data",
          "data": {
            "image/png": "[encoded data removed]",
            "text/plain": [
              "<Figure size 720x360 with 2 Axes>"
            ]
          },
          "metadata": {
            "tags": [],
            "needs_background": "light"
          }
        }
      ]
    },
    {
      "cell_type": "code",
      "metadata": {
        "id": "i3r39pZ5raeF"
      },
      "source": [
        "# As we see our 2-vgg block model is over-fitting on a training set as well"
      ],
      "id": "i3r39pZ5raeF",
      "execution_count": null,
      "outputs": []
    },
    {
      "cell_type": "markdown",
      "metadata": {
        "id": "VjjT0MqQraeF"
      },
      "source": [
        "<h3>Baseline model with 3 VGG blocks without dropout</h3>\n"
      ],
      "id": "VjjT0MqQraeF"
    },
    {
      "cell_type": "code",
      "metadata": {
        "id": "Nj5gMIzXraeG"
      },
      "source": [
        "# Define CNN model with three VGG-style blocks\n",
        "def baseline_model_3():\n",
        "    #reset_random_seeds()\n",
        "    model = Sequential()\n",
        "# 1st block    \n",
        "    model.add(Conv2D(32, (3, 3), activation='relu', \n",
        "                     kernel_initializer='he_uniform', \n",
        "                     padding='same', input_shape=(img_rows, img_cols, 3)))\n",
        "    model.add(Conv2D(32,(3,3), activation = 'relu', kernel_initializer = 'he_uniform', padding = 'same'))\n",
        "    model.add(MaxPooling2D((2, 2), strides=(2, 2)))\n",
        "# 2d block    \n",
        "    model.add(Conv2D(64, (3, 3), activation='relu', kernel_initializer='he_uniform', padding='same'))\n",
        "    model.add(Conv2D(64,(3,3), activation = 'relu', kernel_initializer = 'he_uniform', padding = 'same'))\n",
        "    model.add(MaxPooling2D((2, 2), strides=(2, 2)))\n",
        "# 3d block\n",
        "    model.add(Conv2D(128, (3, 3), activation='relu', kernel_initializer='he_uniform', padding='same'))\n",
        "    model.add(Conv2D(128,(3,3), activation = 'relu', kernel_initializer = 'he_uniform', padding = 'same'))\n",
        "    model.add(MaxPooling2D((2, 2), strides=(2, 2)))\n",
        "   \n",
        "    model.add(Flatten())\n",
        "    model.add(Dense(128, activation='relu', \n",
        "                    kernel_initializer='he_uniform'))\n",
        "    model.add(Dense(6, activation='softmax'))\n",
        "    # Compilation of a model\n",
        "    opt = SGD(lr=0.001, momentum=0.9) # Gradient descent (with momentum) optimizer.\n",
        "    model.compile(optimizer=opt, loss='categorical_crossentropy', metrics=['accuracy'])\n",
        "    return model"
      ],
      "id": "Nj5gMIzXraeG",
      "execution_count": null,
      "outputs": []
    },
    {
      "cell_type": "code",
      "metadata": {
        "id": "-erKhOUrraeG",
        "outputId": "0f00f9fd-d1cb-4a98-cbd7-7f59fdbab59b"
      },
      "source": [
        "# The model will be fit for 20 epochs - to check if the model can learn the problem.\n",
        "# Define model\n",
        "model = baseline_model_3()\n",
        "# Fit model\n",
        "history = model.fit_generator(training_set, steps_per_epoch=len(training_set),\n",
        "                              validation_data=test_set, \n",
        "                              validation_steps=len(test_set), \n",
        "                              epochs= 25)"
      ],
      "id": "-erKhOUrraeG",
      "execution_count": null,
      "outputs": [
        {
          "output_type": "stream",
          "text": [
            "Epoch 1/25\n",
            "53/53 [==============================] - 120s 2s/step - loss: 1.8064 - accuracy: 0.2054 - val_loss: 1.6606 - val_accuracy: 0.3118\n",
            "Epoch 2/25\n",
            "53/53 [==============================] - 121s 2s/step - loss: 1.5919 - accuracy: 0.3569 - val_loss: 1.5015 - val_accuracy: 0.4056\n",
            "Epoch 3/25\n",
            "53/53 [==============================] - 119s 2s/step - loss: 1.4809 - accuracy: 0.4258 - val_loss: 1.3783 - val_accuracy: 0.4646\n",
            "Epoch 4/25\n",
            "53/53 [==============================] - 119s 2s/step - loss: 1.3954 - accuracy: 0.4787 - val_loss: 1.3719 - val_accuracy: 0.4819\n",
            "Epoch 5/25\n",
            "53/53 [==============================] - 119s 2s/step - loss: 1.2992 - accuracy: 0.5075 - val_loss: 1.3322 - val_accuracy: 0.4958\n",
            "Epoch 6/25\n",
            "53/53 [==============================] - 117s 2s/step - loss: 1.2359 - accuracy: 0.5437 - val_loss: 1.4353 - val_accuracy: 0.4549\n",
            "Epoch 7/25\n",
            "53/53 [==============================] - 119s 2s/step - loss: 1.3134 - accuracy: 0.5079 - val_loss: 1.3522 - val_accuracy: 0.4958\n",
            "Epoch 8/25\n",
            "53/53 [==============================] - 118s 2s/step - loss: 1.1262 - accuracy: 0.5872 - val_loss: 1.2441 - val_accuracy: 0.5451\n",
            "Epoch 9/25\n",
            "53/53 [==============================] - 116s 2s/step - loss: 1.0679 - accuracy: 0.6059 - val_loss: 1.2516 - val_accuracy: 0.5514\n",
            "Epoch 10/25\n",
            "53/53 [==============================] - 118s 2s/step - loss: 1.0404 - accuracy: 0.6313 - val_loss: 1.2883 - val_accuracy: 0.5319\n",
            "Epoch 11/25\n",
            "53/53 [==============================] - 116s 2s/step - loss: 0.9371 - accuracy: 0.6650 - val_loss: 1.2161 - val_accuracy: 0.5597\n",
            "Epoch 12/25\n",
            "53/53 [==============================] - 115s 2s/step - loss: 0.9409 - accuracy: 0.6543 - val_loss: 1.2364 - val_accuracy: 0.5493\n",
            "Epoch 13/25\n",
            "53/53 [==============================] - 126s 2s/step - loss: 0.8436 - accuracy: 0.7045 - val_loss: 1.2151 - val_accuracy: 0.5597\n",
            "Epoch 14/25\n",
            "53/53 [==============================] - 117s 2s/step - loss: 0.7112 - accuracy: 0.7593 - val_loss: 1.4060 - val_accuracy: 0.5090\n",
            "Epoch 15/25\n",
            "53/53 [==============================] - 116s 2s/step - loss: 0.6563 - accuracy: 0.7687 - val_loss: 1.3246 - val_accuracy: 0.5306\n",
            "Epoch 16/25\n",
            "53/53 [==============================] - 118s 2s/step - loss: 0.6167 - accuracy: 0.7803 - val_loss: 1.3338 - val_accuracy: 0.5604\n",
            "Epoch 17/25\n",
            "53/53 [==============================] - 118s 2s/step - loss: 0.4824 - accuracy: 0.8389 - val_loss: 1.3627 - val_accuracy: 0.5431\n",
            "Epoch 18/25\n",
            "53/53 [==============================] - 125s 2s/step - loss: 0.4325 - accuracy: 0.8598 - val_loss: 1.9706 - val_accuracy: 0.4500\n",
            "Epoch 19/25\n",
            "53/53 [==============================] - 121s 2s/step - loss: 0.3978 - accuracy: 0.8671 - val_loss: 1.6956 - val_accuracy: 0.5417\n",
            "Epoch 20/25\n",
            "53/53 [==============================] - 117s 2s/step - loss: 0.2711 - accuracy: 0.9117 - val_loss: 1.7053 - val_accuracy: 0.5389\n",
            "Epoch 21/25\n",
            "53/53 [==============================] - 120s 2s/step - loss: 0.2072 - accuracy: 0.9409 - val_loss: 1.7384 - val_accuracy: 0.5681\n",
            "Epoch 22/25\n",
            "53/53 [==============================] - 119s 2s/step - loss: 0.1214 - accuracy: 0.9683 - val_loss: 1.8976 - val_accuracy: 0.5472\n",
            "Epoch 23/25\n",
            "53/53 [==============================] - 118s 2s/step - loss: 0.0712 - accuracy: 0.9876 - val_loss: 1.9965 - val_accuracy: 0.5562\n",
            "Epoch 24/25\n",
            "53/53 [==============================] - 119s 2s/step - loss: 0.0526 - accuracy: 0.9940 - val_loss: 2.0571 - val_accuracy: 0.5493\n",
            "Epoch 25/25\n",
            "53/53 [==============================] - 119s 2s/step - loss: 0.0311 - accuracy: 0.9951 - val_loss: 2.3169 - val_accuracy: 0.5535\n"
          ],
          "name": "stdout"
        }
      ]
    },
    {
      "cell_type": "code",
      "metadata": {
        "id": "XJivRj0GraeG",
        "outputId": "5382f650-99c2-4ab6-bb33-1440dea8b385"
      },
      "source": [
        "# Evaluate model\n",
        "_, acc = model.evaluate_generator(test_set, steps=len(test_set), verbose=0)\n",
        "print(\"Accuracy: %.4f\" % (acc * 100.0))"
      ],
      "id": "XJivRj0GraeG",
      "execution_count": null,
      "outputs": [
        {
          "output_type": "stream",
          "text": [
            "Accuracy: 55.3472\n"
          ],
          "name": "stdout"
        }
      ]
    },
    {
      "cell_type": "code",
      "metadata": {
        "id": "20aZkrtYraeH",
        "outputId": "98321b5e-7d6c-4efd-b023-c3e34f1350a1"
      },
      "source": [
        "# Build graphs\n",
        "graph_accuracy_loss(history)"
      ],
      "id": "20aZkrtYraeH",
      "execution_count": null,
      "outputs": [
        {
          "output_type": "display_data",
          "data": {
            "image/png": "[encoded data removed]",
            "text/plain": [
              "<Figure size 720x360 with 2 Axes>"
            ]
          },
          "metadata": {
            "tags": [],
            "needs_background": "light"
          }
        }
      ]
    },
    {
      "cell_type": "code",
      "metadata": {
        "id": "D062eNBrraeH",
        "outputId": "20ba8452-7a97-4491-ef94-d605589b9f8b"
      },
      "source": [
        "class_report(test_set, model)"
      ],
      "id": "D062eNBrraeH",
      "execution_count": null,
      "outputs": [
        {
          "output_type": "stream",
          "text": [
            "Confusion Matrix\n",
            "[[151  16  12  32  15  14]\n",
            " [ 17 148  25  14   8  28]\n",
            " [ 23  26 120  22   5  44]\n",
            " [ 19  13   9 167  11  21]\n",
            " [ 41  19  12  58  88  22]\n",
            " [ 24  25  29  29  10 123]]\n",
            "Classification Report\n",
            "              precision    recall  f1-score   support\n",
            "\n",
            "     Matisse       0.55      0.63      0.59       240\n",
            "       Monet       0.60      0.62      0.61       240\n",
            "     Pissaro       0.58      0.50      0.54       240\n",
            "      Renoir       0.52      0.70      0.59       240\n",
            "     Sargent       0.64      0.37      0.47       240\n",
            "     VanGogh       0.49      0.51      0.50       240\n",
            "\n",
            "    accuracy                           0.55      1440\n",
            "   macro avg       0.56      0.55      0.55      1440\n",
            "weighted avg       0.56      0.55      0.55      1440\n",
            "\n"
          ],
          "name": "stdout"
        }
      ]
    },
    {
      "cell_type": "code",
      "metadata": {
        "id": "ZwNeikU6raeH"
      },
      "source": [
        "# Accuracy score for 3 VGG blocks is higher than for 2 vgg blcoks model, \n",
        "# so we will continiue with it.\n",
        "# We still have an over-fitting so let's add dropout normalization"
      ],
      "id": "ZwNeikU6raeH",
      "execution_count": null,
      "outputs": []
    },
    {
      "cell_type": "code",
      "metadata": {
        "id": "DAxmgrF8raeH"
      },
      "source": [
        "# Part 2 - Add Dropout Regularization and Data Augmentation\n",
        "# to our Baseline model step by step and evaluate an efficiency  \n",
        "# ___________________________________________________________\n",
        "\n",
        "\n",
        "# 1 step - Add Dropout"
      ],
      "id": "DAxmgrF8raeH",
      "execution_count": null,
      "outputs": []
    },
    {
      "cell_type": "markdown",
      "metadata": {
        "id": "njwUXnXmraeH"
      },
      "source": [
        "<h3>Model with 3 VGG blocks with dropout</h3>"
      ],
      "id": "njwUXnXmraeH"
    },
    {
      "cell_type": "code",
      "metadata": {
        "id": "ayd-xYhPraeH",
        "outputId": "0838d48c-ce2f-41d3-98ea-7595ce8b59e2"
      },
      "source": [
        "# Prepare the data. Instanciate ImageDataGenerator that scalse the pixel values to the range of 0-1\n",
        "# We don't use data augmentation, dropout etc for the Baseline models to check a minimal model performance \n",
        "datagen = ImageDataGenerator(rescale=1. / 255)\n",
        "\n",
        "training_set = datagen.flow_from_directory('train', target_size=(img_rows, img_cols),\n",
        "                                                 batch_size=batch_size,\n",
        "                                                 class_mode='categorical')\n",
        "\n",
        "test_set = datagen.flow_from_directory('val',target_size=(img_rows, img_cols),\n",
        "                                            batch_size=batch_size, shuffle = False,\n",
        "                                            class_mode='categorical')"
      ],
      "id": "ayd-xYhPraeH",
      "execution_count": null,
      "outputs": [
        {
          "output_type": "stream",
          "text": [
            "Found 3360 images belonging to 6 classes.\n",
            "Found 1440 images belonging to 6 classes.\n"
          ],
          "name": "stdout"
        }
      ]
    },
    {
      "cell_type": "code",
      "metadata": {
        "id": "Na8DU6kjraeI"
      },
      "source": [
        "# Define CNN model with Dropout Regularization\n",
        "def model_with_dropout():\n",
        "    #reset_random_seeds()\n",
        "    model = Sequential()\n",
        "   \n",
        "    # 1st block    \n",
        "    model.add(Conv2D(32, (3, 3), activation='relu', \n",
        "                     kernel_initializer='he_uniform', \n",
        "                     padding='same', input_shape=(img_rows, img_cols, 3)))\n",
        "    model.add(Conv2D(32,(3,3), activation = 'relu', kernel_initializer = 'he_uniform', padding = 'same'))\n",
        "    model.add(MaxPooling2D((2, 2), strides=(2, 2)))\n",
        "    \n",
        "# 2d block    \n",
        "    model.add(Conv2D(64, (3, 3), activation='relu', kernel_initializer='he_uniform', padding='same'))\n",
        "    model.add(Conv2D(64,(3,3), activation = 'relu', kernel_initializer = 'he_uniform', padding = 'same'))\n",
        "    model.add(MaxPooling2D((2, 2), strides=(2, 2)))\n",
        "    \n",
        "# 3d block\n",
        "    model.add(Conv2D(128, (3, 3), activation='relu', kernel_initializer='he_uniform', padding='same'))\n",
        "    model.add(Conv2D(128,(3,3), activation = 'relu', kernel_initializer = 'he_uniform', padding = 'same'))\n",
        "    model.add(MaxPooling2D((2, 2), strides=(2, 2)))\n",
        "   \n",
        "    model.add(Flatten())\n",
        "    model.add(Dense(128, activation='relu', \n",
        "                    kernel_initializer='he_uniform'))\n",
        "    model.add(Dropout(0.5))\n",
        "    model.add(Dense(6, activation='softmax'))\n",
        "    # Compilation of a model\n",
        "    opt = SGD(lr=0.001, momentum=0.9) # Gradient descent (with momentum) optimizer.\n",
        "    model.compile(optimizer=opt, loss='categorical_crossentropy', metrics=['accuracy'])\n",
        "    return model"
      ],
      "id": "Na8DU6kjraeI",
      "execution_count": null,
      "outputs": []
    },
    {
      "cell_type": "code",
      "metadata": {
        "id": "qpzHhqf_raeI",
        "outputId": "d231458f-2c26-4113-89d0-770d3e424d2e"
      },
      "source": [
        "# The model will be fit for 35 epochs \n",
        "# Define model\n",
        "model_d = model_with_dropout()\n",
        "# Fit model\n",
        "history = model_d.fit_generator(training_set, steps_per_epoch=len(training_set),\n",
        "                                validation_data=test_set,\n",
        "                                validation_steps=len(test_set), \n",
        "                                epochs= epochs)"
      ],
      "id": "qpzHhqf_raeI",
      "execution_count": null,
      "outputs": [
        {
          "output_type": "stream",
          "text": [
            "Epoch 1/35\n",
            "53/53 [==============================] - 348s 7s/step - loss: 1.8507 - accuracy: 0.1889 - val_loss: 1.7113 - val_accuracy: 0.3646\n",
            "Epoch 2/35\n",
            "53/53 [==============================] - 340s 6s/step - loss: 1.6987 - accuracy: 0.2956 - val_loss: 1.6176 - val_accuracy: 0.3486\n",
            "Epoch 3/35\n",
            "53/53 [==============================] - 337s 6s/step - loss: 1.6184 - accuracy: 0.3427 - val_loss: 1.5370 - val_accuracy: 0.3931\n",
            "Epoch 4/35\n",
            "53/53 [==============================] - 350s 7s/step - loss: 1.5762 - accuracy: 0.3765 - val_loss: 1.4161 - val_accuracy: 0.4882\n",
            "Epoch 5/35\n",
            "53/53 [==============================] - 350s 7s/step - loss: 1.5232 - accuracy: 0.4055 - val_loss: 1.3951 - val_accuracy: 0.5083\n",
            "Epoch 6/35\n",
            "53/53 [==============================] - 349s 7s/step - loss: 1.4690 - accuracy: 0.4293 - val_loss: 1.3404 - val_accuracy: 0.5208\n",
            "Epoch 7/35\n",
            "53/53 [==============================] - 344s 6s/step - loss: 1.4106 - accuracy: 0.4595 - val_loss: 1.3374 - val_accuracy: 0.5326\n",
            "Epoch 8/35\n",
            "53/53 [==============================] - 344s 7s/step - loss: 1.3486 - accuracy: 0.5030 - val_loss: 1.3760 - val_accuracy: 0.4993\n",
            "Epoch 9/35\n",
            "53/53 [==============================] - 346s 7s/step - loss: 1.3406 - accuracy: 0.4874 - val_loss: 1.2474 - val_accuracy: 0.5590\n",
            "Epoch 10/35\n",
            "53/53 [==============================] - 345s 7s/step - loss: 1.2427 - accuracy: 0.5344 - val_loss: 1.2523 - val_accuracy: 0.5437\n",
            "Epoch 11/35\n",
            "53/53 [==============================] - 336s 6s/step - loss: 1.2298 - accuracy: 0.5272 - val_loss: 1.1976 - val_accuracy: 0.5750\n",
            "Epoch 12/35\n",
            "53/53 [==============================] - 346s 7s/step - loss: 1.1828 - accuracy: 0.5671 - val_loss: 1.1890 - val_accuracy: 0.5611\n",
            "Epoch 13/35\n",
            "53/53 [==============================] - 337s 6s/step - loss: 1.1238 - accuracy: 0.5765 - val_loss: 1.2419 - val_accuracy: 0.5250\n",
            "Epoch 14/35\n",
            "53/53 [==============================] - 329s 6s/step - loss: 1.0847 - accuracy: 0.5882 - val_loss: 1.1354 - val_accuracy: 0.5729\n",
            "Epoch 15/35\n",
            "53/53 [==============================] - 327s 6s/step - loss: 1.0342 - accuracy: 0.6114 - val_loss: 1.1484 - val_accuracy: 0.5826\n",
            "Epoch 16/35\n",
            "53/53 [==============================] - 325s 6s/step - loss: 0.9393 - accuracy: 0.6608 - val_loss: 1.1632 - val_accuracy: 0.5528\n",
            "Epoch 17/35\n",
            "53/53 [==============================] - 324s 6s/step - loss: 0.9246 - accuracy: 0.6587 - val_loss: 1.1591 - val_accuracy: 0.5819\n",
            "Epoch 18/35\n",
            "53/53 [==============================] - 326s 6s/step - loss: 0.8978 - accuracy: 0.6730 - val_loss: 1.1045 - val_accuracy: 0.6000\n",
            "Epoch 19/35\n",
            "53/53 [==============================] - 325s 6s/step - loss: 0.8122 - accuracy: 0.7042 - val_loss: 1.2390 - val_accuracy: 0.5667\n",
            "Epoch 20/35\n",
            "53/53 [==============================] - 325s 6s/step - loss: 0.7991 - accuracy: 0.7009 - val_loss: 1.1680 - val_accuracy: 0.5889\n",
            "Epoch 21/35\n",
            "53/53 [==============================] - 328s 6s/step - loss: 0.7294 - accuracy: 0.7335 - val_loss: 1.1430 - val_accuracy: 0.6056\n",
            "Epoch 22/35\n",
            "53/53 [==============================] - 354s 7s/step - loss: 0.5891 - accuracy: 0.7793 - val_loss: 1.1884 - val_accuracy: 0.5847\n",
            "Epoch 23/35\n",
            "53/53 [==============================] - 370s 7s/step - loss: 0.5534 - accuracy: 0.7947 - val_loss: 1.2961 - val_accuracy: 0.5861\n",
            "Epoch 24/35\n",
            "53/53 [==============================] - 337s 6s/step - loss: 0.5718 - accuracy: 0.7899 - val_loss: 1.2364 - val_accuracy: 0.6014\n",
            "Epoch 25/35\n",
            "53/53 [==============================] - 326s 6s/step - loss: 0.4673 - accuracy: 0.8334 - val_loss: 1.2950 - val_accuracy: 0.6021\n",
            "Epoch 26/35\n",
            "53/53 [==============================] - 341s 6s/step - loss: 0.4006 - accuracy: 0.8510 - val_loss: 1.3229 - val_accuracy: 0.5986\n",
            "Epoch 27/35\n",
            "53/53 [==============================] - 365s 7s/step - loss: 0.4037 - accuracy: 0.8487 - val_loss: 1.2618 - val_accuracy: 0.5806\n",
            "Epoch 28/35\n",
            "53/53 [==============================] - 328s 6s/step - loss: 0.3303 - accuracy: 0.8832 - val_loss: 1.4299 - val_accuracy: 0.5944\n",
            "Epoch 29/35\n",
            "53/53 [==============================] - 325s 6s/step - loss: 0.2677 - accuracy: 0.9056 - val_loss: 1.4701 - val_accuracy: 0.5993\n",
            "Epoch 30/35\n",
            "53/53 [==============================] - 326s 6s/step - loss: 0.2570 - accuracy: 0.9044 - val_loss: 1.6989 - val_accuracy: 0.5868\n",
            "Epoch 31/35\n",
            "53/53 [==============================] - 325s 6s/step - loss: 0.2558 - accuracy: 0.9070 - val_loss: 1.3894 - val_accuracy: 0.6035\n",
            "Epoch 32/35\n",
            "53/53 [==============================] - 330s 6s/step - loss: 0.2185 - accuracy: 0.9278 - val_loss: 1.5704 - val_accuracy: 0.5861\n",
            "Epoch 33/35\n",
            "53/53 [==============================] - 325s 6s/step - loss: 0.2080 - accuracy: 0.9266 - val_loss: 1.6080 - val_accuracy: 0.5799\n",
            "Epoch 34/35\n",
            "53/53 [==============================] - 326s 6s/step - loss: 0.1637 - accuracy: 0.9424 - val_loss: 1.9251 - val_accuracy: 0.5437\n",
            "Epoch 35/35\n",
            "53/53 [==============================] - 324s 6s/step - loss: 0.1506 - accuracy: 0.9499 - val_loss: 1.8839 - val_accuracy: 0.6007\n"
          ],
          "name": "stdout"
        }
      ]
    },
    {
      "cell_type": "code",
      "metadata": {
        "id": "RgmjKiueraeI",
        "outputId": "49eb51bb-35ff-4331-b8d0-c665017421ca"
      },
      "source": [
        "# Evaluate model\n",
        "_, acc = model_d.evaluate_generator(test_set, steps=len(test_set), verbose=0)\n",
        "print(\"Accuracy: %.4f\" % (acc * 100.0))"
      ],
      "id": "RgmjKiueraeI",
      "execution_count": null,
      "outputs": [
        {
          "output_type": "stream",
          "text": [
            "Accuracy: 60.0694\n"
          ],
          "name": "stdout"
        }
      ]
    },
    {
      "cell_type": "code",
      "metadata": {
        "id": "qRL4itm8raeI",
        "outputId": "6485f7c0-b237-4896-ecd9-89c71ebd89e6"
      },
      "source": [
        "# Build graphs\n",
        "graph_accuracy_loss(history)"
      ],
      "id": "qRL4itm8raeI",
      "execution_count": null,
      "outputs": [
        {
          "output_type": "display_data",
          "data": {
            "image/png": "[encoded data removed]",
            "text/plain": [
              "<Figure size 720x360 with 2 Axes>"
            ]
          },
          "metadata": {
            "tags": [],
            "needs_background": "light"
          }
        }
      ]
    },
    {
      "cell_type": "code",
      "metadata": {
        "id": "LpiyHoAEraeI"
      },
      "source": [
        "# As we see model overfitts less after usage of dropout"
      ],
      "id": "LpiyHoAEraeI",
      "execution_count": null,
      "outputs": []
    },
    {
      "cell_type": "code",
      "metadata": {
        "id": "AcW4SfrWraeI",
        "outputId": "ee8f8237-bab9-49e8-8670-6848f4c95160"
      },
      "source": [
        "class_report(test_set, model_d)"
      ],
      "id": "AcW4SfrWraeI",
      "execution_count": null,
      "outputs": [
        {
          "output_type": "stream",
          "text": [
            "Confusion Matrix\n",
            "[[178   7   8  10  24  13]\n",
            " [ 19 144  33   9  19  16]\n",
            " [ 16  28 142  19  14  21]\n",
            " [ 21  17  22 145  23  12]\n",
            " [ 50   8   9  25 138  10]\n",
            " [ 21  24  36  13  28 118]]\n",
            "Classification Report\n",
            "              precision    recall  f1-score   support\n",
            "\n",
            "     Matisse       0.58      0.74      0.65       240\n",
            "       Monet       0.63      0.60      0.62       240\n",
            "     Pissaro       0.57      0.59      0.58       240\n",
            "      Renoir       0.66      0.60      0.63       240\n",
            "     Sargent       0.56      0.57      0.57       240\n",
            "     VanGogh       0.62      0.49      0.55       240\n",
            "\n",
            "    accuracy                           0.60      1440\n",
            "   macro avg       0.60      0.60      0.60      1440\n",
            "weighted avg       0.60      0.60      0.60      1440\n",
            "\n"
          ],
          "name": "stdout"
        }
      ]
    },
    {
      "cell_type": "code",
      "metadata": {
        "id": "0x-1ls0iraeJ"
      },
      "source": [
        "# 2 step - Add Data augmentation\n",
        "# Use our model with dropout"
      ],
      "id": "0x-1ls0iraeJ",
      "execution_count": null,
      "outputs": []
    },
    {
      "cell_type": "markdown",
      "metadata": {
        "id": "HXrHsaA-raeJ"
      },
      "source": [
        "<h3>Model with 3 VGG blocks with dropout and data augmentation</h3>\n"
      ],
      "id": "HXrHsaA-raeJ"
    },
    {
      "cell_type": "markdown",
      "metadata": {
        "id": "kOVNJbr1raeJ"
      },
      "source": [
        "<h4>Trained for max 85 epochs with dropout and data augmentation (with Early Stopping and saving the best model)</h4>\n"
      ],
      "id": "kOVNJbr1raeJ"
    },
    {
      "cell_type": "code",
      "metadata": {
        "id": "exM9qvtNraeJ"
      },
      "source": [
        "# Implementing Early stoping and checkpoint to save the model with the highest accuracy\n",
        "ES = EarlyStopping(monitor='val_loss', mode='min', verbose=1, patience=10)\n",
        "MC = ModelCheckpoint('best_model.h5', monitor='val_accuracy', verbose=1, save_best_only=True, \n",
        "                     save_weights_only=False, mode='auto')"
      ],
      "id": "exM9qvtNraeJ",
      "execution_count": null,
      "outputs": []
    },
    {
      "cell_type": "code",
      "metadata": {
        "id": "c14USXG7raeJ",
        "outputId": "bfb27745-1092-45c4-cdae-a9554fcd57ea"
      },
      "source": [
        "# Version with different data augmentation to check accuracy\n",
        "\n",
        "# Create data generators\n",
        "train_datagen = ImageDataGenerator(rescale=1. / 255,\n",
        "                                   shear_range=0.2,\n",
        "                                   zoom_range=0.2,\n",
        "                                   horizontal_flip=True,\n",
        "                                   fill_mode='nearest')\n",
        "test_datagen = ImageDataGenerator(rescale=1. / 255)\n",
        "\n",
        "# Create sets\n",
        "training_set = train_datagen.flow_from_directory('train',\n",
        "                                                 target_size=(img_rows, img_cols),\n",
        "                                                 batch_size=batch_size,\n",
        "                                                 class_mode='categorical')\n",
        "\n",
        "\n",
        "test_set = test_datagen.flow_from_directory('val',\n",
        "                                            target_size=(img_rows, img_cols),\n",
        "                                            batch_size=batch_size, shuffle = False,\n",
        "                                            class_mode='categorical')\n",
        "\n",
        "# Define model\n",
        "model50 = model_with_dropout()\n",
        "# Fit model\n",
        "history = model50.fit_generator(training_set, \n",
        "                              steps_per_epoch=len(training_set),\n",
        "                              validation_data=test_set, \n",
        "                              validation_steps=len(test_set), \n",
        "                              epochs= 85, callbacks=[ES, MC])"
      ],
      "id": "c14USXG7raeJ",
      "execution_count": null,
      "outputs": [
        {
          "output_type": "stream",
          "text": [
            "Found 3360 images belonging to 6 classes.\n",
            "Found 1440 images belonging to 6 classes.\n",
            "Epoch 1/85\n",
            "53/53 [==============================] - 329s 6s/step - loss: 2.4224 - accuracy: 0.1648 - val_loss: 1.7454 - val_accuracy: 0.3014\n",
            "\n",
            "Epoch 00001: val_accuracy improved from -inf to 0.30139, saving model to best_model.h5\n",
            "Epoch 2/85\n",
            "53/53 [==============================] - 329s 6s/step - loss: 1.7453 - accuracy: 0.2321 - val_loss: 1.6721 - val_accuracy: 0.3299\n",
            "\n",
            "Epoch 00002: val_accuracy improved from 0.30139 to 0.32986, saving model to best_model.h5\n",
            "Epoch 3/85\n",
            "53/53 [==============================] - 327s 6s/step - loss: 1.7158 - accuracy: 0.2717 - val_loss: 1.6765 - val_accuracy: 0.2986\n",
            "\n",
            "Epoch 00003: val_accuracy did not improve from 0.32986\n",
            "Epoch 4/85\n",
            "53/53 [==============================] - 330s 6s/step - loss: 1.6965 - accuracy: 0.2736 - val_loss: 1.6452 - val_accuracy: 0.3479\n",
            "\n",
            "Epoch 00004: val_accuracy improved from 0.32986 to 0.34792, saving model to best_model.h5\n",
            "Epoch 5/85\n",
            "53/53 [==============================] - 328s 6s/step - loss: 1.6605 - accuracy: 0.3070 - val_loss: 1.6286 - val_accuracy: 0.3090\n",
            "\n",
            "Epoch 00005: val_accuracy did not improve from 0.34792\n",
            "Epoch 6/85\n",
            "53/53 [==============================] - 329s 6s/step - loss: 1.6587 - accuracy: 0.2968 - val_loss: 1.6262 - val_accuracy: 0.3528\n",
            "\n",
            "Epoch 00006: val_accuracy improved from 0.34792 to 0.35278, saving model to best_model.h5\n",
            "Epoch 7/85\n",
            "53/53 [==============================] - 328s 6s/step - loss: 1.6561 - accuracy: 0.2936 - val_loss: 1.5726 - val_accuracy: 0.3618\n",
            "\n",
            "Epoch 00007: val_accuracy improved from 0.35278 to 0.36181, saving model to best_model.h5\n",
            "Epoch 8/85\n",
            "53/53 [==============================] - 331s 6s/step - loss: 1.6340 - accuracy: 0.3216 - val_loss: 1.5652 - val_accuracy: 0.3806\n",
            "\n",
            "Epoch 00008: val_accuracy improved from 0.36181 to 0.38056, saving model to best_model.h5\n",
            "Epoch 9/85\n",
            "53/53 [==============================] - 328s 6s/step - loss: 1.6386 - accuracy: 0.3037 - val_loss: 1.5727 - val_accuracy: 0.3715\n",
            "\n",
            "Epoch 00009: val_accuracy did not improve from 0.38056\n",
            "Epoch 10/85\n",
            "53/53 [==============================] - 329s 6s/step - loss: 1.6251 - accuracy: 0.3061 - val_loss: 1.5615 - val_accuracy: 0.3896\n",
            "\n",
            "Epoch 00010: val_accuracy improved from 0.38056 to 0.38958, saving model to best_model.h5\n",
            "Epoch 11/85\n",
            "53/53 [==============================] - 329s 6s/step - loss: 1.6111 - accuracy: 0.3225 - val_loss: 1.5469 - val_accuracy: 0.3715\n",
            "\n",
            "Epoch 00011: val_accuracy did not improve from 0.38958\n",
            "Epoch 12/85\n",
            "53/53 [==============================] - 328s 6s/step - loss: 1.5688 - accuracy: 0.3371 - val_loss: 1.4694 - val_accuracy: 0.4458\n",
            "\n",
            "Epoch 00012: val_accuracy improved from 0.38958 to 0.44583, saving model to best_model.h5\n",
            "Epoch 13/85\n",
            "53/53 [==============================] - 331s 6s/step - loss: 1.5392 - accuracy: 0.3711 - val_loss: 1.4562 - val_accuracy: 0.4431\n",
            "\n",
            "Epoch 00013: val_accuracy did not improve from 0.44583\n",
            "Epoch 14/85\n",
            "53/53 [==============================] - 328s 6s/step - loss: 1.5363 - accuracy: 0.3736 - val_loss: 1.4583 - val_accuracy: 0.4590\n",
            "\n",
            "Epoch 00014: val_accuracy improved from 0.44583 to 0.45903, saving model to best_model.h5\n",
            "Epoch 15/85\n",
            "53/53 [==============================] - 330s 6s/step - loss: 1.5021 - accuracy: 0.3831 - val_loss: 1.4246 - val_accuracy: 0.4667\n",
            "\n",
            "Epoch 00015: val_accuracy improved from 0.45903 to 0.46667, saving model to best_model.h5\n",
            "Epoch 16/85\n",
            "53/53 [==============================] - 327s 6s/step - loss: 1.5003 - accuracy: 0.4038 - val_loss: 1.5066 - val_accuracy: 0.4417\n",
            "\n",
            "Epoch 00016: val_accuracy did not improve from 0.46667\n",
            "Epoch 17/85\n",
            "53/53 [==============================] - 329s 6s/step - loss: 1.5099 - accuracy: 0.4034 - val_loss: 1.3756 - val_accuracy: 0.4833\n",
            "\n",
            "Epoch 00017: val_accuracy improved from 0.46667 to 0.48333, saving model to best_model.h5\n",
            "Epoch 18/85\n",
            "53/53 [==============================] - 328s 6s/step - loss: 1.4896 - accuracy: 0.4004 - val_loss: 1.3685 - val_accuracy: 0.4972\n",
            "\n",
            "Epoch 00018: val_accuracy improved from 0.48333 to 0.49722, saving model to best_model.h5\n",
            "Epoch 19/85\n",
            "53/53 [==============================] - 332s 6s/step - loss: 1.4378 - accuracy: 0.4225 - val_loss: 1.3520 - val_accuracy: 0.4979\n",
            "\n",
            "Epoch 00019: val_accuracy improved from 0.49722 to 0.49792, saving model to best_model.h5\n",
            "Epoch 20/85\n",
            "53/53 [==============================] - 329s 6s/step - loss: 1.4066 - accuracy: 0.4482 - val_loss: 1.3982 - val_accuracy: 0.4493\n",
            "\n",
            "Epoch 00020: val_accuracy did not improve from 0.49792\n",
            "Epoch 21/85\n",
            "53/53 [==============================] - 329s 6s/step - loss: 1.4068 - accuracy: 0.4514 - val_loss: 1.3097 - val_accuracy: 0.5000\n",
            "\n",
            "Epoch 00021: val_accuracy improved from 0.49792 to 0.50000, saving model to best_model.h5\n",
            "Epoch 22/85\n",
            "53/53 [==============================] - 329s 6s/step - loss: 1.4176 - accuracy: 0.4366 - val_loss: 1.3277 - val_accuracy: 0.5083\n",
            "\n",
            "Epoch 00022: val_accuracy improved from 0.50000 to 0.50833, saving model to best_model.h5\n",
            "Epoch 23/85\n",
            "53/53 [==============================] - 328s 6s/step - loss: 1.3734 - accuracy: 0.4652 - val_loss: 1.2995 - val_accuracy: 0.5007\n",
            "\n",
            "Epoch 00023: val_accuracy did not improve from 0.50833\n",
            "Epoch 24/85\n",
            "53/53 [==============================] - 329s 6s/step - loss: 1.3234 - accuracy: 0.4787 - val_loss: 1.3576 - val_accuracy: 0.4847\n",
            "\n",
            "Epoch 00024: val_accuracy did not improve from 0.50833\n",
            "Epoch 25/85\n",
            "53/53 [==============================] - 328s 6s/step - loss: 1.3437 - accuracy: 0.4864 - val_loss: 1.2311 - val_accuracy: 0.5458\n",
            "\n",
            "Epoch 00025: val_accuracy improved from 0.50833 to 0.54583, saving model to best_model.h5\n",
            "Epoch 26/85\n",
            "53/53 [==============================] - 330s 6s/step - loss: 1.2840 - accuracy: 0.5187 - val_loss: 1.2237 - val_accuracy: 0.5396\n",
            "\n",
            "Epoch 00026: val_accuracy did not improve from 0.54583\n",
            "Epoch 27/85\n",
            "53/53 [==============================] - 327s 6s/step - loss: 1.2969 - accuracy: 0.4930 - val_loss: 1.1939 - val_accuracy: 0.5694\n",
            "\n",
            "Epoch 00027: val_accuracy improved from 0.54583 to 0.56944, saving model to best_model.h5\n",
            "Epoch 28/85\n",
            "53/53 [==============================] - 328s 6s/step - loss: 1.2601 - accuracy: 0.5215 - val_loss: 1.2659 - val_accuracy: 0.5312\n",
            "\n",
            "Epoch 00028: val_accuracy did not improve from 0.56944\n",
            "Epoch 29/85\n",
            "53/53 [==============================] - 327s 6s/step - loss: 1.2769 - accuracy: 0.5073 - val_loss: 1.3077 - val_accuracy: 0.4972\n",
            "\n",
            "Epoch 00029: val_accuracy did not improve from 0.56944\n",
            "Epoch 30/85\n",
            "53/53 [==============================] - 331s 6s/step - loss: 1.2146 - accuracy: 0.5442 - val_loss: 1.2672 - val_accuracy: 0.5326\n",
            "\n",
            "Epoch 00030: val_accuracy did not improve from 0.56944\n",
            "Epoch 31/85\n",
            "53/53 [==============================] - 328s 6s/step - loss: 1.2255 - accuracy: 0.5438 - val_loss: 1.2204 - val_accuracy: 0.5389\n",
            "\n",
            "Epoch 00031: val_accuracy did not improve from 0.56944\n",
            "Epoch 32/85\n",
            "53/53 [==============================] - 327s 6s/step - loss: 1.2480 - accuracy: 0.5089 - val_loss: 1.1608 - val_accuracy: 0.5819\n",
            "\n",
            "Epoch 00032: val_accuracy improved from 0.56944 to 0.58194, saving model to best_model.h5\n",
            "Epoch 33/85\n",
            "53/53 [==============================] - 329s 6s/step - loss: 1.2033 - accuracy: 0.5560 - val_loss: 1.1415 - val_accuracy: 0.5875\n",
            "\n",
            "Epoch 00033: val_accuracy improved from 0.58194 to 0.58750, saving model to best_model.h5\n",
            "Epoch 34/85\n",
            "53/53 [==============================] - 327s 6s/step - loss: 1.1482 - accuracy: 0.5679 - val_loss: 1.2929 - val_accuracy: 0.5049\n",
            "\n",
            "Epoch 00034: val_accuracy did not improve from 0.58750\n",
            "Epoch 35/85\n",
            "53/53 [==============================] - 329s 6s/step - loss: 1.2315 - accuracy: 0.5323 - val_loss: 1.2006 - val_accuracy: 0.5583\n",
            "\n",
            "Epoch 00035: val_accuracy did not improve from 0.58750\n",
            "Epoch 36/85\n",
            "53/53 [==============================] - 327s 6s/step - loss: 1.1853 - accuracy: 0.5632 - val_loss: 1.1323 - val_accuracy: 0.5833\n",
            "\n",
            "Epoch 00036: val_accuracy did not improve from 0.58750\n",
            "Epoch 37/85\n",
            "53/53 [==============================] - 330s 6s/step - loss: 1.1229 - accuracy: 0.5802 - val_loss: 1.1623 - val_accuracy: 0.5743\n",
            "\n",
            "Epoch 00037: val_accuracy did not improve from 0.58750\n",
            "Epoch 38/85\n",
            "53/53 [==============================] - 328s 6s/step - loss: 1.1274 - accuracy: 0.5781 - val_loss: 1.1050 - val_accuracy: 0.5944\n"
          ],
          "name": "stdout"
        },
        {
          "output_type": "stream",
          "text": [
            "\n",
            "Epoch 00038: val_accuracy improved from 0.58750 to 0.59444, saving model to best_model.h5\n",
            "Epoch 39/85\n",
            "53/53 [==============================] - 329s 6s/step - loss: 1.1161 - accuracy: 0.5802 - val_loss: 1.1438 - val_accuracy: 0.5799\n",
            "\n",
            "Epoch 00039: val_accuracy did not improve from 0.59444\n",
            "Epoch 40/85\n",
            "53/53 [==============================] - 327s 6s/step - loss: 1.1443 - accuracy: 0.5735 - val_loss: 1.0993 - val_accuracy: 0.5986\n",
            "\n",
            "Epoch 00040: val_accuracy improved from 0.59444 to 0.59861, saving model to best_model.h5\n",
            "Epoch 41/85\n",
            "53/53 [==============================] - 331s 6s/step - loss: 1.0829 - accuracy: 0.5840 - val_loss: 1.0530 - val_accuracy: 0.6042\n",
            "\n",
            "Epoch 00041: val_accuracy improved from 0.59861 to 0.60417, saving model to best_model.h5\n",
            "Epoch 42/85\n",
            "53/53 [==============================] - 329s 6s/step - loss: 1.0906 - accuracy: 0.5889 - val_loss: 1.2490 - val_accuracy: 0.5632\n",
            "\n",
            "Epoch 00042: val_accuracy did not improve from 0.60417\n",
            "Epoch 43/85\n",
            "53/53 [==============================] - 327s 6s/step - loss: 1.0671 - accuracy: 0.5939 - val_loss: 1.2654 - val_accuracy: 0.5354\n",
            "\n",
            "Epoch 00043: val_accuracy did not improve from 0.60417\n",
            "Epoch 44/85\n",
            "53/53 [==============================] - 328s 6s/step - loss: 1.1111 - accuracy: 0.5806 - val_loss: 1.0512 - val_accuracy: 0.6167\n",
            "\n",
            "Epoch 00044: val_accuracy improved from 0.60417 to 0.61667, saving model to best_model.h5\n",
            "Epoch 45/85\n",
            "53/53 [==============================] - 327s 6s/step - loss: 1.0406 - accuracy: 0.6119 - val_loss: 1.0291 - val_accuracy: 0.6340\n",
            "\n",
            "Epoch 00045: val_accuracy improved from 0.61667 to 0.63403, saving model to best_model.h5\n",
            "Epoch 46/85\n",
            "53/53 [==============================] - 329s 6s/step - loss: 1.0053 - accuracy: 0.6211 - val_loss: 1.0786 - val_accuracy: 0.6007\n",
            "\n",
            "Epoch 00046: val_accuracy did not improve from 0.63403\n",
            "Epoch 47/85\n",
            "53/53 [==============================] - 327s 6s/step - loss: 1.0257 - accuracy: 0.6064 - val_loss: 1.1663 - val_accuracy: 0.5764\n",
            "\n",
            "Epoch 00047: val_accuracy did not improve from 0.63403\n",
            "Epoch 48/85\n",
            "53/53 [==============================] - 330s 6s/step - loss: 0.9586 - accuracy: 0.6514 - val_loss: 1.0916 - val_accuracy: 0.5938\n",
            "\n",
            "Epoch 00048: val_accuracy did not improve from 0.63403\n",
            "Epoch 49/85\n",
            "53/53 [==============================] - 327s 6s/step - loss: 0.9943 - accuracy: 0.6325 - val_loss: 1.0809 - val_accuracy: 0.6222\n",
            "\n",
            "Epoch 00049: val_accuracy did not improve from 0.63403\n",
            "Epoch 50/85\n",
            "53/53 [==============================] - 328s 6s/step - loss: 1.0186 - accuracy: 0.6151 - val_loss: 1.1388 - val_accuracy: 0.5917\n",
            "\n",
            "Epoch 00050: val_accuracy did not improve from 0.63403\n",
            "Epoch 51/85\n",
            "53/53 [==============================] - 327s 6s/step - loss: 0.9868 - accuracy: 0.6383 - val_loss: 1.1200 - val_accuracy: 0.6000\n",
            "\n",
            "Epoch 00051: val_accuracy did not improve from 0.63403\n",
            "Epoch 52/85\n",
            "53/53 [==============================] - 330s 6s/step - loss: 0.9498 - accuracy: 0.6409 - val_loss: 1.0673 - val_accuracy: 0.6125\n",
            "\n",
            "Epoch 00052: val_accuracy did not improve from 0.63403\n",
            "Epoch 53/85\n",
            "53/53 [==============================] - 329s 6s/step - loss: 0.9380 - accuracy: 0.6387 - val_loss: 1.0828 - val_accuracy: 0.6243\n",
            "\n",
            "Epoch 00053: val_accuracy did not improve from 0.63403\n",
            "Epoch 54/85\n",
            "53/53 [==============================] - 327s 6s/step - loss: 0.8984 - accuracy: 0.6620 - val_loss: 1.0396 - val_accuracy: 0.6347\n",
            "\n",
            "Epoch 00054: val_accuracy improved from 0.63403 to 0.63472, saving model to best_model.h5\n",
            "Epoch 55/85\n",
            "53/53 [==============================] - 329s 6s/step - loss: 0.9209 - accuracy: 0.6604 - val_loss: 1.0578 - val_accuracy: 0.6326\n",
            "\n",
            "Epoch 00055: val_accuracy did not improve from 0.63472\n",
            "Epoch 00055: early stopping\n"
          ],
          "name": "stdout"
        }
      ]
    },
    {
      "cell_type": "code",
      "metadata": {
        "id": "7gUDXGrGraeJ",
        "outputId": "ceddff44-4bf5-4920-de7b-e66da30c21e5"
      },
      "source": [
        "# Create a new model instance to upload the best saved model there\n",
        "# because our trained model finished training with the final accuracy not the best possible\n",
        "model = model_with_dropout()\n",
        "\n",
        "# Load the previously saved weights\n",
        "model.load_weights('best_model.h5')\n",
        "# Evaluate model\n",
        "\n",
        "_, acc = model.evaluate_generator(test_set, steps=len(test_set), verbose=0)\n",
        "print(\"Accuracy: %.4f\" % (acc * 100.0))"
      ],
      "id": "7gUDXGrGraeJ",
      "execution_count": null,
      "outputs": [
        {
          "output_type": "stream",
          "text": [
            "Accuracy: 63.4722\n"
          ],
          "name": "stdout"
        }
      ]
    },
    {
      "cell_type": "code",
      "metadata": {
        "id": "E_2BMnI6raeJ",
        "outputId": "dfeea96b-305f-4e1d-9835-a02bd82650a2"
      },
      "source": [
        "# Build graphs \n",
        "graph_accuracy_loss(history)"
      ],
      "id": "E_2BMnI6raeJ",
      "execution_count": null,
      "outputs": [
        {
          "output_type": "display_data",
          "data": {
            "image/png": "[encoded data removed]",
            "text/plain": [
              "<Figure size 720x360 with 2 Axes>"
            ]
          },
          "metadata": {
            "tags": [],
            "needs_background": "light"
          }
        }
      ]
    },
    {
      "cell_type": "markdown",
      "metadata": {
        "id": "irTuRLxpraeK"
      },
      "source": [
        "<h4>Trained for max 85 epochs and bigger size of pictures (224*224px instead 128*128px) and Early Stopping</h4>"
      ],
      "id": "irTuRLxpraeK"
    },
    {
      "cell_type": "code",
      "metadata": {
        "id": "4CDjyls9raeK"
      },
      "source": [
        "# Implementing Early stoping and checkpoint to save the model with the highest accuracy\n",
        "ES = EarlyStopping(monitor='val_loss', mode='min', verbose=1, patience=10)\n",
        "MC = ModelCheckpoint('best_model_224px.h5', monitor='val_accuracy', verbose=1, save_best_only=True, \n",
        "                     save_weights_only=False, mode='auto')"
      ],
      "id": "4CDjyls9raeK",
      "execution_count": null,
      "outputs": []
    },
    {
      "cell_type": "code",
      "metadata": {
        "id": "97uXbBg7raeK",
        "outputId": "dd3cadad-4b8a-48bf-9ed4-5204c0c5d512"
      },
      "source": [
        "# Let's try to change pictures size from 128 to 224px and check accuracy\n",
        "# Create data generators\n",
        "train_datagen = ImageDataGenerator(rescale=1. / 255,\n",
        "                                   shear_range=0.2,\n",
        "                                   zoom_range=0.2,\n",
        "                                   horizontal_flip=True,\n",
        "                                   fill_mode='nearest')\n",
        "test_datagen = ImageDataGenerator(rescale=1. / 255)\n",
        "\n",
        "img_rows = 224\n",
        "img_cols = 224\n",
        "# Create sets\n",
        "training_set = train_datagen.flow_from_directory('train',\n",
        "                                                 target_size=(img_rows, img_cols),\n",
        "                                                 batch_size=batch_size,\n",
        "                                                 class_mode='categorical')\n",
        "\n",
        "\n",
        "test_set = test_datagen.flow_from_directory('val',\n",
        "                                            target_size=(img_rows, img_cols),\n",
        "                                            batch_size=batch_size, shuffle = False,\n",
        "                                            class_mode='categorical')\n",
        "\n",
        "# Define model\n",
        "model224 = model_with_dropout()\n",
        "# Fit model\n",
        "history = model224.fit_generator(training_set, \n",
        "                              steps_per_epoch=len(training_set),\n",
        "                              validation_data=test_set, \n",
        "                              validation_steps=len(test_set), \n",
        "                              epochs= 85, callbacks=[ES, MC])"
      ],
      "id": "97uXbBg7raeK",
      "execution_count": null,
      "outputs": [
        {
          "output_type": "stream",
          "text": [
            "Found 3360 images belonging to 6 classes.\n",
            "Found 1440 images belonging to 6 classes.\n",
            "Epoch 1/85\n",
            "53/53 [==============================] - 327s 6s/step - loss: 1.8328 - accuracy: 0.2140 - val_loss: 1.6944 - val_accuracy: 0.2639\n",
            "\n",
            "Epoch 00001: val_accuracy improved from -inf to 0.26389, saving model to best_model_224px.h5\n",
            "Epoch 2/85\n",
            "53/53 [==============================] - 328s 6s/step - loss: 1.6909 - accuracy: 0.2965 - val_loss: 1.5895 - val_accuracy: 0.3778\n",
            "\n",
            "Epoch 00002: val_accuracy improved from 0.26389 to 0.37778, saving model to best_model_224px.h5\n",
            "Epoch 3/85\n",
            "53/53 [==============================] - 327s 6s/step - loss: 1.6376 - accuracy: 0.3441 - val_loss: 1.5510 - val_accuracy: 0.4111\n",
            "\n",
            "Epoch 00003: val_accuracy improved from 0.37778 to 0.41111, saving model to best_model_224px.h5\n",
            "Epoch 4/85\n",
            "53/53 [==============================] - 329s 6s/step - loss: 1.6085 - accuracy: 0.3495 - val_loss: 1.4963 - val_accuracy: 0.4500\n",
            "\n",
            "Epoch 00004: val_accuracy improved from 0.41111 to 0.45000, saving model to best_model_224px.h5\n",
            "Epoch 5/85\n",
            "53/53 [==============================] - 327s 6s/step - loss: 1.5581 - accuracy: 0.3743 - val_loss: 1.4736 - val_accuracy: 0.4556\n",
            "\n",
            "Epoch 00005: val_accuracy improved from 0.45000 to 0.45556, saving model to best_model_224px.h5\n",
            "Epoch 6/85\n",
            "53/53 [==============================] - 328s 6s/step - loss: 1.5056 - accuracy: 0.4185 - val_loss: 1.4650 - val_accuracy: 0.4799\n",
            "\n",
            "Epoch 00006: val_accuracy improved from 0.45556 to 0.47986, saving model to best_model_224px.h5\n",
            "Epoch 7/85\n",
            "53/53 [==============================] - 329s 6s/step - loss: 1.5136 - accuracy: 0.4116 - val_loss: 1.4462 - val_accuracy: 0.4549\n",
            "\n",
            "Epoch 00007: val_accuracy did not improve from 0.47986\n",
            "Epoch 8/85\n",
            "53/53 [==============================] - 329s 6s/step - loss: 1.4836 - accuracy: 0.4199 - val_loss: 1.3893 - val_accuracy: 0.4847\n",
            "\n",
            "Epoch 00008: val_accuracy improved from 0.47986 to 0.48472, saving model to best_model_224px.h5\n",
            "Epoch 9/85\n",
            "53/53 [==============================] - 329s 6s/step - loss: 1.4576 - accuracy: 0.4357 - val_loss: 1.3494 - val_accuracy: 0.5090\n",
            "\n",
            "Epoch 00009: val_accuracy improved from 0.48472 to 0.50903, saving model to best_model_224px.h5\n",
            "Epoch 10/85\n",
            "53/53 [==============================] - 327s 6s/step - loss: 1.4277 - accuracy: 0.4421 - val_loss: 1.3866 - val_accuracy: 0.4847\n",
            "\n",
            "Epoch 00010: val_accuracy did not improve from 0.50903\n",
            "Epoch 11/85\n",
            "53/53 [==============================] - 329s 6s/step - loss: 1.3909 - accuracy: 0.4737 - val_loss: 1.2611 - val_accuracy: 0.5222\n",
            "\n",
            "Epoch 00011: val_accuracy improved from 0.50903 to 0.52222, saving model to best_model_224px.h5\n",
            "Epoch 12/85\n",
            "53/53 [==============================] - 328s 6s/step - loss: 1.3298 - accuracy: 0.4888 - val_loss: 1.2909 - val_accuracy: 0.5257\n",
            "\n",
            "Epoch 00012: val_accuracy improved from 0.52222 to 0.52569, saving model to best_model_224px.h5\n",
            "Epoch 13/85\n",
            "53/53 [==============================] - 329s 6s/step - loss: 1.3429 - accuracy: 0.4939 - val_loss: 1.2339 - val_accuracy: 0.5417\n",
            "\n",
            "Epoch 00013: val_accuracy improved from 0.52569 to 0.54167, saving model to best_model_224px.h5\n",
            "Epoch 14/85\n",
            "53/53 [==============================] - 327s 6s/step - loss: 1.3063 - accuracy: 0.4992 - val_loss: 1.2715 - val_accuracy: 0.5097\n",
            "\n",
            "Epoch 00014: val_accuracy did not improve from 0.54167\n",
            "Epoch 15/85\n",
            "53/53 [==============================] - 329s 6s/step - loss: 1.3283 - accuracy: 0.4929 - val_loss: 1.2455 - val_accuracy: 0.5375\n",
            "\n",
            "Epoch 00015: val_accuracy did not improve from 0.54167\n",
            "Epoch 16/85\n",
            "53/53 [==============================] - 327s 6s/step - loss: 1.2871 - accuracy: 0.5223 - val_loss: 1.2758 - val_accuracy: 0.5354\n",
            "\n",
            "Epoch 00016: val_accuracy did not improve from 0.54167\n",
            "Epoch 17/85\n",
            "53/53 [==============================] - 328s 6s/step - loss: 1.2620 - accuracy: 0.5349 - val_loss: 1.2061 - val_accuracy: 0.5514\n",
            "\n",
            "Epoch 00017: val_accuracy improved from 0.54167 to 0.55139, saving model to best_model_224px.h5\n",
            "Epoch 18/85\n",
            "53/53 [==============================] - 329s 6s/step - loss: 1.2095 - accuracy: 0.5448 - val_loss: 1.1251 - val_accuracy: 0.6062\n",
            "\n",
            "Epoch 00018: val_accuracy improved from 0.55139 to 0.60625, saving model to best_model_224px.h5\n",
            "Epoch 19/85\n",
            "53/53 [==============================] - 329s 6s/step - loss: 1.1916 - accuracy: 0.5564 - val_loss: 1.1981 - val_accuracy: 0.5569\n",
            "\n",
            "Epoch 00019: val_accuracy did not improve from 0.60625\n",
            "Epoch 20/85\n",
            "53/53 [==============================] - 328s 6s/step - loss: 1.1914 - accuracy: 0.5449 - val_loss: 1.1363 - val_accuracy: 0.5778\n",
            "\n",
            "Epoch 00020: val_accuracy did not improve from 0.60625\n",
            "Epoch 21/85\n",
            "53/53 [==============================] - 327s 6s/step - loss: 1.1629 - accuracy: 0.5780 - val_loss: 1.2119 - val_accuracy: 0.5458\n",
            "\n",
            "Epoch 00021: val_accuracy did not improve from 0.60625\n",
            "Epoch 22/85\n",
            "53/53 [==============================] - 328s 6s/step - loss: 1.2278 - accuracy: 0.5500 - val_loss: 1.1160 - val_accuracy: 0.5951\n",
            "\n",
            "Epoch 00022: val_accuracy did not improve from 0.60625\n",
            "Epoch 23/85\n",
            "53/53 [==============================] - 327s 6s/step - loss: 1.1583 - accuracy: 0.5907 - val_loss: 1.0890 - val_accuracy: 0.6111\n",
            "\n",
            "Epoch 00023: val_accuracy improved from 0.60625 to 0.61111, saving model to best_model_224px.h5\n",
            "Epoch 24/85\n",
            "53/53 [==============================] - 329s 6s/step - loss: 1.0813 - accuracy: 0.6028 - val_loss: 1.1620 - val_accuracy: 0.5757\n",
            "\n",
            "Epoch 00024: val_accuracy did not improve from 0.61111\n",
            "Epoch 25/85\n",
            "53/53 [==============================] - 327s 6s/step - loss: 1.1143 - accuracy: 0.5856 - val_loss: 1.1554 - val_accuracy: 0.5917\n",
            "\n",
            "Epoch 00025: val_accuracy did not improve from 0.61111\n",
            "Epoch 26/85\n",
            "53/53 [==============================] - 329s 6s/step - loss: 1.0929 - accuracy: 0.5928 - val_loss: 1.0454 - val_accuracy: 0.6222\n",
            "\n",
            "Epoch 00026: val_accuracy improved from 0.61111 to 0.62222, saving model to best_model_224px.h5\n",
            "Epoch 27/85\n",
            "53/53 [==============================] - 327s 6s/step - loss: 1.0676 - accuracy: 0.6031 - val_loss: 1.1076 - val_accuracy: 0.5910\n",
            "\n",
            "Epoch 00027: val_accuracy did not improve from 0.62222\n",
            "Epoch 28/85\n",
            "53/53 [==============================] - 334s 6s/step - loss: 1.0427 - accuracy: 0.6170 - val_loss: 1.0657 - val_accuracy: 0.6049\n",
            "\n",
            "Epoch 00028: val_accuracy did not improve from 0.62222\n",
            "Epoch 29/85\n",
            "53/53 [==============================] - 335s 6s/step - loss: 1.0327 - accuracy: 0.6203 - val_loss: 1.0414 - val_accuracy: 0.6215\n",
            "\n",
            "Epoch 00029: val_accuracy did not improve from 0.62222\n",
            "Epoch 30/85\n",
            "53/53 [==============================] - 332s 6s/step - loss: 1.0768 - accuracy: 0.6110 - val_loss: 1.0864 - val_accuracy: 0.5910\n",
            "\n",
            "Epoch 00030: val_accuracy did not improve from 0.62222\n",
            "Epoch 31/85\n",
            "53/53 [==============================] - 329s 6s/step - loss: 1.0339 - accuracy: 0.6092 - val_loss: 1.0454 - val_accuracy: 0.6111\n",
            "\n",
            "Epoch 00031: val_accuracy did not improve from 0.62222\n",
            "Epoch 32/85\n",
            "53/53 [==============================] - 327s 6s/step - loss: 0.9953 - accuracy: 0.6357 - val_loss: 1.1317 - val_accuracy: 0.5785\n",
            "\n",
            "Epoch 00032: val_accuracy did not improve from 0.62222\n",
            "Epoch 33/85\n",
            "53/53 [==============================] - 327s 6s/step - loss: 0.9974 - accuracy: 0.6341 - val_loss: 1.0575 - val_accuracy: 0.6035\n",
            "\n",
            "Epoch 00033: val_accuracy did not improve from 0.62222\n",
            "Epoch 34/85\n",
            "53/53 [==============================] - 327s 6s/step - loss: 1.0176 - accuracy: 0.6301 - val_loss: 1.0274 - val_accuracy: 0.6194\n",
            "\n",
            "Epoch 00034: val_accuracy did not improve from 0.62222\n",
            "Epoch 35/85\n",
            "53/53 [==============================] - 328s 6s/step - loss: 0.9307 - accuracy: 0.6567 - val_loss: 1.0192 - val_accuracy: 0.6271\n",
            "\n",
            "Epoch 00035: val_accuracy improved from 0.62222 to 0.62708, saving model to best_model_224px.h5\n",
            "Epoch 36/85\n",
            "53/53 [==============================] - 327s 6s/step - loss: 0.9294 - accuracy: 0.6552 - val_loss: 1.0061 - val_accuracy: 0.6250\n",
            "\n",
            "Epoch 00036: val_accuracy did not improve from 0.62708\n",
            "Epoch 37/85\n",
            "53/53 [==============================] - 332s 6s/step - loss: 0.9372 - accuracy: 0.6539 - val_loss: 1.1249 - val_accuracy: 0.5889\n",
            "\n",
            "Epoch 00037: val_accuracy did not improve from 0.62708\n",
            "Epoch 38/85\n",
            "53/53 [==============================] - 359s 7s/step - loss: 0.9147 - accuracy: 0.6681 - val_loss: 1.1352 - val_accuracy: 0.5993\n"
          ],
          "name": "stdout"
        },
        {
          "output_type": "stream",
          "text": [
            "\n",
            "Epoch 00038: val_accuracy did not improve from 0.62708\n",
            "Epoch 39/85\n",
            "53/53 [==============================] - 338s 6s/step - loss: 0.9078 - accuracy: 0.6590 - val_loss: 1.2670 - val_accuracy: 0.5562\n",
            "\n",
            "Epoch 00039: val_accuracy did not improve from 0.62708\n",
            "Epoch 40/85\n",
            "53/53 [==============================] - 336s 6s/step - loss: 0.9214 - accuracy: 0.6514 - val_loss: 1.0842 - val_accuracy: 0.6028\n",
            "\n",
            "Epoch 00040: val_accuracy did not improve from 0.62708\n",
            "Epoch 41/85\n",
            "53/53 [==============================] - 334s 6s/step - loss: 0.8847 - accuracy: 0.6732 - val_loss: 1.1661 - val_accuracy: 0.5819\n",
            "\n",
            "Epoch 00041: val_accuracy did not improve from 0.62708\n",
            "Epoch 42/85\n",
            "53/53 [==============================] - 343s 6s/step - loss: 0.8506 - accuracy: 0.6828 - val_loss: 1.0871 - val_accuracy: 0.6215\n",
            "\n",
            "Epoch 00042: val_accuracy did not improve from 0.62708\n",
            "Epoch 43/85\n",
            "53/53 [==============================] - 339s 6s/step - loss: 0.9311 - accuracy: 0.6597 - val_loss: 1.1820 - val_accuracy: 0.5882\n",
            "\n",
            "Epoch 00043: val_accuracy did not improve from 0.62708\n",
            "Epoch 44/85\n",
            "53/53 [==============================] - 348s 7s/step - loss: 0.8313 - accuracy: 0.7000 - val_loss: 1.1131 - val_accuracy: 0.6028\n",
            "\n",
            "Epoch 00044: val_accuracy did not improve from 0.62708\n",
            "Epoch 45/85\n",
            "53/53 [==============================] - 343s 6s/step - loss: 0.8142 - accuracy: 0.6895 - val_loss: 1.0761 - val_accuracy: 0.6146\n",
            "\n",
            "Epoch 00045: val_accuracy did not improve from 0.62708\n",
            "Epoch 46/85\n",
            "53/53 [==============================] - 345s 7s/step - loss: 0.8320 - accuracy: 0.6898 - val_loss: 1.0717 - val_accuracy: 0.6292\n",
            "\n",
            "Epoch 00046: val_accuracy improved from 0.62708 to 0.62917, saving model to best_model_224px.h5\n",
            "Epoch 00046: early stopping\n"
          ],
          "name": "stdout"
        }
      ]
    },
    {
      "cell_type": "code",
      "metadata": {
        "id": "v9SZjnU-raeK",
        "outputId": "56c1f55f-e1fd-47e9-8da9-e6bf56d80c0e"
      },
      "source": [
        "# Create a new model instance to upload the best saved model there\n",
        "# because our trained model finished training with the final accuracy not the best possible\n",
        "model = model_with_dropout()\n",
        "\n",
        "# Load the previously saved weights\n",
        "model.load_weights('best_model_224px.h5')\n",
        "# Evaluate model\n",
        "\n",
        "_, acc = model.evaluate_generator(test_set, steps=len(test_set), verbose=0)\n",
        "print(\"Accuracy: %.4f\" % (acc * 100.0))"
      ],
      "id": "v9SZjnU-raeK",
      "execution_count": null,
      "outputs": [
        {
          "output_type": "stream",
          "text": [
            "Accuracy: 62.9167\n"
          ],
          "name": "stdout"
        }
      ]
    },
    {
      "cell_type": "code",
      "metadata": {
        "id": "vAKryfOSraeK",
        "outputId": "e1dddd54-e5a2-4a86-a3d6-62641bcecff2"
      },
      "source": [
        "# Build graphs\n",
        "graph_accuracy_loss(history)"
      ],
      "id": "vAKryfOSraeK",
      "execution_count": null,
      "outputs": [
        {
          "output_type": "display_data",
          "data": {
            "image/png": "[encoded data removed]",
            "text/plain": [
              "<Figure size 720x360 with 2 Axes>"
            ]
          },
          "metadata": {
            "tags": [],
            "needs_background": "light"
          }
        }
      ]
    },
    {
      "cell_type": "code",
      "metadata": {
        "id": "2XiKNRtOraeK"
      },
      "source": [
        "# As we see after 46 epochs our model didn't reached higher level of accuracy,\n",
        "# and wasn't improving val_loss for 10 epochs so early stop was executed.\n",
        "# and finished with the best accuracy score 62.9167%.\n",
        "# Due the fact that calculations are computationally expensive for bigger picture size \n",
        "# we would recomment to use a model trained on small pictures of size 128*128px"
      ],
      "id": "2XiKNRtOraeK",
      "execution_count": null,
      "outputs": []
    },
    {
      "cell_type": "markdown",
      "metadata": {
        "id": "JmFXk7CsraeL"
      },
      "source": [
        "<h3>Model with 3 VGG blocks, dropout, data augmentation and batch normalization</h3>\n",
        "<h4>Trained for 80 max epochs and small size of pictures (128*128px) with Early stopping</h4>"
      ],
      "id": "JmFXk7CsraeL"
    },
    {
      "cell_type": "code",
      "metadata": {
        "id": "_cea5lPYraeL"
      },
      "source": [
        "# Implementing Early stoping\n",
        "ES = EarlyStopping(monitor='val_loss', mode='min', verbose=1, patience= 10)\n",
        "MC = ModelCheckpoint('best_model_bn.h5', monitor='val_accuracy', \n",
        "                     verbose=1, save_best_only=True, save_weights_only=False, mode='auto')"
      ],
      "id": "_cea5lPYraeL",
      "execution_count": 50,
      "outputs": []
    },
    {
      "cell_type": "code",
      "metadata": {
        "id": "i4GKDK7NraeL"
      },
      "source": [
        "# Let's improve our model's architecture:\n",
        "# - add batch normalization between layers to speed up training"
      ],
      "id": "i4GKDK7NraeL",
      "execution_count": 51,
      "outputs": []
    },
    {
      "cell_type": "code",
      "metadata": {
        "id": "28yyIh5YraeL"
      },
      "source": [
        "# Define CNN model with added BatchNormalization\n",
        "img_rows = 128\n",
        "img_cols = 128\n",
        "def model_blocks_bn():\n",
        "    #reset_random_seeds()\n",
        "    model = Sequential()\n",
        "   \n",
        "    model.add(Conv2D(32, (3, 3), activation='relu', padding='same', input_shape=(img_rows, img_cols, 3)))\n",
        "    model.add(BatchNormalization())\n",
        "    model.add(Conv2D(32,(3,3), activation = 'relu', kernel_initializer = 'he_uniform', padding = 'same'))\n",
        "    model.add(BatchNormalization())\n",
        "    model.add(MaxPooling2D((2, 2), strides=(2, 2)))\n",
        "    \n",
        "\n",
        "    model.add(Conv2D(64, (3, 3), activation='relu', padding='same'))\n",
        "    model.add(BatchNormalization())\n",
        "    model.add(Conv2D(64, (3, 3), activation='relu', padding='same'))\n",
        "    model.add(BatchNormalization())\n",
        "    model.add(MaxPooling2D((2, 2), strides=(2, 2)))\n",
        "    \n",
        "    \n",
        "    model.add(Conv2D(128, (3, 3), activation='relu', padding='same'))\n",
        "    model.add(BatchNormalization())\n",
        "    model.add(Conv2D(128, (3, 3), activation='relu', padding='same'))\n",
        "    model.add(BatchNormalization())\n",
        "    model.add(MaxPooling2D((2, 2), strides=(2, 2)))\n",
        "   \n",
        "    \n",
        "    model.add(Flatten())\n",
        "    model.add(Dense(128, activation='relu', name='fc1'))\n",
        "    model.add(BatchNormalization())\n",
        "    model.add(Dropout(0.5))\n",
        "    model.add(Dense(6, activation='softmax', name='output'))\n",
        "    # Compilation of a model\n",
        "    opt = SGD(lr=0.001, momentum=0.9) # Gradient descent (with momentum) optimizer.\n",
        "    model.compile(optimizer=opt, loss='categorical_crossentropy', metrics=['accuracy'])\n",
        "    return model"
      ],
      "id": "28yyIh5YraeL",
      "execution_count": 52,
      "outputs": []
    },
    {
      "cell_type": "code",
      "metadata": {
        "colab": {
          "base_uri": "https://localhost:8080/"
        },
        "id": "w-8Il8enraeL",
        "outputId": "93227674-0105-475b-a9cc-37c693d23fbb"
      },
      "source": [
        "# Create data generators\n",
        "train_datagen = ImageDataGenerator(rescale=1. / 255,\n",
        "                                   shear_range=0.2,\n",
        "                                   zoom_range=0.2,\n",
        "                                   horizontal_flip=True,\n",
        "                                   fill_mode='nearest')\n",
        "test_datagen = ImageDataGenerator(rescale=1. / 255)\n",
        "\n",
        "# Create sets\n",
        "training_set = train_datagen.flow_from_directory('train',\n",
        "                                                 target_size=(img_rows, img_cols),\n",
        "                                                 batch_size=batch_size,\n",
        "                                                 class_mode='categorical')\n",
        "\n",
        "\n",
        "test_set = test_datagen.flow_from_directory('val',\n",
        "                                            target_size=(img_rows, img_cols),\n",
        "                                            batch_size=batch_size, shuffle = False,\n",
        "                                            class_mode='categorical')\n",
        "\n",
        "# Define model\n",
        "model_bn = model_blocks_bn()\n",
        "# Fit model\n",
        "history = model_bn.fit_generator(training_set, \n",
        "                              steps_per_epoch=len(training_set),\n",
        "                              validation_data=test_set, \n",
        "                              validation_steps=len(test_set), \n",
        "                              epochs= 85, callbacks = [ES, MC])"
      ],
      "id": "w-8Il8enraeL",
      "execution_count": 53,
      "outputs": [
        {
          "output_type": "stream",
          "text": [
            "Found 3360 images belonging to 6 classes.\n",
            "Found 1440 images belonging to 6 classes.\n",
            "Epoch 1/85\n",
            "53/53 [==============================] - 19s 346ms/step - loss: 2.2054 - accuracy: 0.3445 - val_loss: 2.2370 - val_accuracy: 0.1681\n",
            "\n",
            "Epoch 00001: val_accuracy improved from -inf to 0.16806, saving model to best_model_bn.h5\n",
            "Epoch 2/85\n",
            "53/53 [==============================] - 18s 339ms/step - loss: 1.5403 - accuracy: 0.4837 - val_loss: 4.9748 - val_accuracy: 0.1667\n",
            "\n",
            "Epoch 00002: val_accuracy did not improve from 0.16806\n",
            "Epoch 3/85\n",
            "53/53 [==============================] - 18s 337ms/step - loss: 1.3735 - accuracy: 0.5216 - val_loss: 2.4959 - val_accuracy: 0.2222\n",
            "\n",
            "Epoch 00003: val_accuracy improved from 0.16806 to 0.22222, saving model to best_model_bn.h5\n",
            "Epoch 4/85\n",
            "53/53 [==============================] - 18s 341ms/step - loss: 1.2607 - accuracy: 0.5533 - val_loss: 2.7830 - val_accuracy: 0.2118\n",
            "\n",
            "Epoch 00004: val_accuracy did not improve from 0.22222\n",
            "Epoch 5/85\n",
            "53/53 [==============================] - 18s 341ms/step - loss: 1.1264 - accuracy: 0.5969 - val_loss: 2.5709 - val_accuracy: 0.2153\n",
            "\n",
            "Epoch 00005: val_accuracy did not improve from 0.22222\n",
            "Epoch 6/85\n",
            "53/53 [==============================] - 18s 339ms/step - loss: 1.0890 - accuracy: 0.6071 - val_loss: 2.2061 - val_accuracy: 0.2924\n",
            "\n",
            "Epoch 00006: val_accuracy improved from 0.22222 to 0.29236, saving model to best_model_bn.h5\n",
            "Epoch 7/85\n",
            "53/53 [==============================] - 18s 338ms/step - loss: 1.0427 - accuracy: 0.6226 - val_loss: 2.0799 - val_accuracy: 0.3458\n",
            "\n",
            "Epoch 00007: val_accuracy improved from 0.29236 to 0.34583, saving model to best_model_bn.h5\n",
            "Epoch 8/85\n",
            "53/53 [==============================] - 18s 343ms/step - loss: 0.9754 - accuracy: 0.6487 - val_loss: 1.5729 - val_accuracy: 0.4313\n",
            "\n",
            "Epoch 00008: val_accuracy improved from 0.34583 to 0.43125, saving model to best_model_bn.h5\n",
            "Epoch 9/85\n",
            "53/53 [==============================] - 18s 340ms/step - loss: 0.9585 - accuracy: 0.6557 - val_loss: 1.6737 - val_accuracy: 0.4181\n",
            "\n",
            "Epoch 00009: val_accuracy did not improve from 0.43125\n",
            "Epoch 10/85\n",
            "53/53 [==============================] - 18s 340ms/step - loss: 0.8997 - accuracy: 0.6728 - val_loss: 1.6112 - val_accuracy: 0.4854\n",
            "\n",
            "Epoch 00010: val_accuracy improved from 0.43125 to 0.48542, saving model to best_model_bn.h5\n",
            "Epoch 11/85\n",
            "53/53 [==============================] - 18s 338ms/step - loss: 0.9320 - accuracy: 0.6633 - val_loss: 2.0031 - val_accuracy: 0.3826\n",
            "\n",
            "Epoch 00011: val_accuracy did not improve from 0.48542\n",
            "Epoch 12/85\n",
            "53/53 [==============================] - 18s 341ms/step - loss: 0.9229 - accuracy: 0.6748 - val_loss: 1.4785 - val_accuracy: 0.4993\n",
            "\n",
            "Epoch 00012: val_accuracy improved from 0.48542 to 0.49931, saving model to best_model_bn.h5\n",
            "Epoch 13/85\n",
            "53/53 [==============================] - 18s 339ms/step - loss: 0.8209 - accuracy: 0.7126 - val_loss: 1.3239 - val_accuracy: 0.5431\n",
            "\n",
            "Epoch 00013: val_accuracy improved from 0.49931 to 0.54306, saving model to best_model_bn.h5\n",
            "Epoch 14/85\n",
            "53/53 [==============================] - 18s 336ms/step - loss: 0.8066 - accuracy: 0.7051 - val_loss: 1.3403 - val_accuracy: 0.5556\n",
            "\n",
            "Epoch 00014: val_accuracy improved from 0.54306 to 0.55556, saving model to best_model_bn.h5\n",
            "Epoch 15/85\n",
            "53/53 [==============================] - 18s 346ms/step - loss: 0.8145 - accuracy: 0.7082 - val_loss: 1.4413 - val_accuracy: 0.5493\n",
            "\n",
            "Epoch 00015: val_accuracy did not improve from 0.55556\n",
            "Epoch 16/85\n",
            "53/53 [==============================] - 18s 338ms/step - loss: 0.7465 - accuracy: 0.7373 - val_loss: 1.5160 - val_accuracy: 0.5125\n",
            "\n",
            "Epoch 00016: val_accuracy did not improve from 0.55556\n",
            "Epoch 17/85\n",
            "53/53 [==============================] - 18s 342ms/step - loss: 0.7082 - accuracy: 0.7443 - val_loss: 1.4763 - val_accuracy: 0.5229\n",
            "\n",
            "Epoch 00017: val_accuracy did not improve from 0.55556\n",
            "Epoch 18/85\n",
            "53/53 [==============================] - 18s 336ms/step - loss: 0.7269 - accuracy: 0.7409 - val_loss: 1.1090 - val_accuracy: 0.6340\n",
            "\n",
            "Epoch 00018: val_accuracy improved from 0.55556 to 0.63403, saving model to best_model_bn.h5\n",
            "Epoch 19/85\n",
            "53/53 [==============================] - 18s 344ms/step - loss: 0.6779 - accuracy: 0.7445 - val_loss: 1.6149 - val_accuracy: 0.4840\n",
            "\n",
            "Epoch 00019: val_accuracy did not improve from 0.63403\n",
            "Epoch 20/85\n",
            "53/53 [==============================] - 18s 338ms/step - loss: 0.6261 - accuracy: 0.7619 - val_loss: 1.2255 - val_accuracy: 0.6132\n",
            "\n",
            "Epoch 00020: val_accuracy did not improve from 0.63403\n",
            "Epoch 21/85\n",
            "53/53 [==============================] - 18s 340ms/step - loss: 0.6043 - accuracy: 0.7847 - val_loss: 1.4254 - val_accuracy: 0.5542\n",
            "\n",
            "Epoch 00021: val_accuracy did not improve from 0.63403\n",
            "Epoch 22/85\n",
            "53/53 [==============================] - 18s 342ms/step - loss: 0.5936 - accuracy: 0.7863 - val_loss: 1.5710 - val_accuracy: 0.5132\n",
            "\n",
            "Epoch 00022: val_accuracy did not improve from 0.63403\n",
            "Epoch 23/85\n",
            "53/53 [==============================] - 18s 340ms/step - loss: 0.5499 - accuracy: 0.8128 - val_loss: 1.2029 - val_accuracy: 0.6014\n",
            "\n",
            "Epoch 00023: val_accuracy did not improve from 0.63403\n",
            "Epoch 24/85\n",
            "53/53 [==============================] - 18s 341ms/step - loss: 0.5783 - accuracy: 0.7926 - val_loss: 1.3017 - val_accuracy: 0.5792\n",
            "\n",
            "Epoch 00024: val_accuracy did not improve from 0.63403\n",
            "Epoch 25/85\n",
            "53/53 [==============================] - 18s 342ms/step - loss: 0.5617 - accuracy: 0.7997 - val_loss: 1.4060 - val_accuracy: 0.5708\n",
            "\n",
            "Epoch 00025: val_accuracy did not improve from 0.63403\n",
            "Epoch 26/85\n",
            "53/53 [==============================] - 18s 338ms/step - loss: 0.5458 - accuracy: 0.8064 - val_loss: 1.3926 - val_accuracy: 0.5611\n",
            "\n",
            "Epoch 00026: val_accuracy did not improve from 0.63403\n",
            "Epoch 27/85\n",
            "53/53 [==============================] - 18s 335ms/step - loss: 0.5200 - accuracy: 0.8107 - val_loss: 1.2561 - val_accuracy: 0.6049\n",
            "\n",
            "Epoch 00027: val_accuracy did not improve from 0.63403\n",
            "Epoch 28/85\n",
            "53/53 [==============================] - 18s 340ms/step - loss: 0.4908 - accuracy: 0.8213 - val_loss: 1.3079 - val_accuracy: 0.5993\n",
            "\n",
            "Epoch 00028: val_accuracy did not improve from 0.63403\n",
            "Epoch 00028: early stopping\n"
          ],
          "name": "stdout"
        }
      ]
    },
    {
      "cell_type": "code",
      "metadata": {
        "colab": {
          "base_uri": "https://localhost:8080/"
        },
        "id": "WDPgKcGNraeL",
        "outputId": "d823fc9b-af55-4796-a4c5-d23e3cac6415"
      },
      "source": [
        "# Create a new model instance to upload the best saved model there\n",
        "# because our trained model finished training with the final accuracy not the best possible\n",
        "model = model_blocks_bn()\n",
        "\n",
        "# Load the previously saved weights\n",
        "model.load_weights('best_model_bn.h5')\n",
        "# Evaluate model\n",
        "\n",
        "_, acc = model.evaluate_generator(test_set, steps=len(test_set), verbose=0)\n",
        "print(\"Accuracy: %.4f\" % (acc * 100.0))"
      ],
      "id": "WDPgKcGNraeL",
      "execution_count": 54,
      "outputs": [
        {
          "output_type": "stream",
          "text": [
            "Accuracy: 63.4028\n"
          ],
          "name": "stdout"
        }
      ]
    },
    {
      "cell_type": "code",
      "metadata": {
        "colab": {
          "base_uri": "https://localhost:8080/",
          "height": 351
        },
        "id": "g47fbs2LraeL",
        "outputId": "68dd77cb-0a38-4ab2-cde3-8f1d98b15639"
      },
      "source": [
        "# Build graphs\n",
        "graph_accuracy_loss(history)"
      ],
      "id": "g47fbs2LraeL",
      "execution_count": 55,
      "outputs": [
        {
          "output_type": "display_data",
          "data": {
            "image/png": "[encoded data removed]",
            "text/plain": [
              "<Figure size 720x360 with 2 Axes>"
            ]
          },
          "metadata": {
            "tags": [],
            "needs_background": "light"
          }
        }
      ]
    },
    {
      "cell_type": "code",
      "metadata": {
        "id": "-A7AQPeXraeM"
      },
      "source": [
        "# As we see our model with batch normalization learns much faster.\n",
        "#  but it is still has lower accuracy and has higher overfitting \n",
        "# so we are going to use our model_with_dropout"
      ],
      "id": "-A7AQPeXraeM",
      "execution_count": null,
      "outputs": []
    },
    {
      "cell_type": "markdown",
      "metadata": {
        "id": "NPnudrhvraeM"
      },
      "source": [
        "<h3>Model VGG16</h3>"
      ],
      "id": "NPnudrhvraeM"
    },
    {
      "cell_type": "code",
      "metadata": {
        "id": "Qd6gfZ9craeM"
      },
      "source": [
        "# Implementing Early stoping\n",
        "ES = EarlyStopping(monitor='val_loss', mode='min', verbose=1, patience=9)\n",
        "MC = ModelCheckpoint('best_model_vgg16.h5', monitor='val_accuracy', \n",
        "                     verbose=1, save_best_only=True, save_weights_only=False, mode='auto')\n",
        "img_rows = 128\n",
        "img_cols = 128\n",
        "def VGG16():\n",
        "    model = Sequential()\n",
        "    model.add(Conv2D(input_shape=(img_rows,img_cols,3),filters=64, kernel_size=(3,3),padding=\"same\", activation=\"relu\"))\n",
        "    model.add(Conv2D(filters=64,kernel_size=(3,3),padding=\"same\", activation=\"relu\"))\n",
        "    model.add(MaxPooling2D(pool_size=(2,2),strides=(2,2)))\n",
        "    \n",
        "    model.add(Conv2D(filters=128, kernel_size=(3,3), padding=\"same\", activation=\"relu\"))\n",
        "    model.add(Conv2D(filters=128, kernel_size=(3,3), padding=\"same\", activation=\"relu\"))\n",
        "    model.add(MaxPooling2D(pool_size=(2,2),strides=(2,2)))\n",
        "    \n",
        "    model.add(Conv2D(filters=256, kernel_size=(3,3), padding=\"same\", activation=\"relu\"))\n",
        "    model.add(Conv2D(filters=256, kernel_size=(3,3), padding=\"same\", activation=\"relu\"))\n",
        "    model.add(Conv2D(filters=256, kernel_size=(3,3), padding=\"same\", activation=\"relu\"))\n",
        "    model.add(MaxPooling2D(pool_size=(2,2),strides=(2,2)))\n",
        "    \n",
        "    model.add(Conv2D(filters=512, kernel_size=(3,3), padding=\"same\", activation=\"relu\"))\n",
        "    model.add(Conv2D(filters=512, kernel_size=(3,3), padding=\"same\", activation=\"relu\"))\n",
        "    model.add(Conv2D(filters=512, kernel_size=(3,3), padding=\"same\", activation=\"relu\"))\n",
        "    model.add(MaxPooling2D(pool_size=(2,2),strides=(2,2)))\n",
        "    \n",
        "    model.add(Conv2D(filters=512, kernel_size=(3,3), padding=\"same\", activation=\"relu\"))\n",
        "    model.add(Conv2D(filters=512, kernel_size=(3,3), padding=\"same\", activation=\"relu\"))\n",
        "    model.add(Conv2D(filters=512, kernel_size=(3,3), padding=\"same\", activation=\"relu\"))\n",
        "    model.add(MaxPooling2D(pool_size=(2,2),strides=(2,2),name='vgg16'))\n",
        "   \n",
        "    model.add(Flatten(name='flatten'))\n",
        "    model.add(Dense(units=4096, activation=\"relu\", name='fc1'))\n",
        "    model.add(Dense(units=4096,activation=\"relu\", name='fc2'))\n",
        "    model.add(Dense(units=6, activation='softmax', name='output'))\n",
        "    \n",
        "    opt = SGD(lr=0.001, momentum=0.9) # Gradient descent (with momentum) optimizer.\n",
        "    model.compile(optimizer=opt, loss='categorical_crossentropy', metrics=['accuracy'])\n",
        "    return model"
      ],
      "id": "Qd6gfZ9craeM",
      "execution_count": null,
      "outputs": []
    },
    {
      "cell_type": "code",
      "metadata": {
        "id": "ozjGZoDOraeM",
        "outputId": "ea7c0b68-c00d-4563-ee3d-d31fbc5f430b"
      },
      "source": [
        "# Create sets\n",
        "training_set = train_datagen.flow_from_directory('train',\n",
        "                                                 target_size=(img_rows, img_cols),\n",
        "                                                 batch_size=batch_size,\n",
        "                                                 class_mode='categorical')\n",
        "\n",
        "\n",
        "test_set = test_datagen.flow_from_directory('val',\n",
        "                                            target_size=(img_rows, img_cols),\n",
        "                                            batch_size=batch_size, shuffle = False,\n",
        "                                            class_mode='categorical')\n",
        "\n",
        "# Define model\n",
        "model_vgg = VGG16()\n",
        "# Fit model\n",
        "history = model_vgg.fit_generator(training_set, \n",
        "                              steps_per_epoch=len(training_set),\n",
        "                              validation_data=test_set, \n",
        "                              validation_steps=len(test_set), \n",
        "                              epochs= 80, callbacks=[ES, MC])"
      ],
      "id": "ozjGZoDOraeM",
      "execution_count": null,
      "outputs": [
        {
          "output_type": "stream",
          "text": [
            "Found 3360 images belonging to 6 classes.\n",
            "Found 1440 images belonging to 6 classes.\n",
            "Epoch 1/100\n",
            "53/53 [==============================] - 512s 10s/step - loss: 1.7917 - accuracy: 0.1719 - val_loss: 1.7914 - val_accuracy: 0.2313\n",
            "\n",
            "Epoch 00001: val_accuracy improved from -inf to 0.23125, saving model to best_model_vgg16.h5\n",
            "Epoch 2/100\n",
            "53/53 [==============================] - 518s 10s/step - loss: 1.7914 - accuracy: 0.2089 - val_loss: 1.7910 - val_accuracy: 0.2896\n",
            "\n",
            "Epoch 00002: val_accuracy improved from 0.23125 to 0.28958, saving model to best_model_vgg16.h5\n",
            "Epoch 3/100\n",
            "53/53 [==============================] - 537s 10s/step - loss: 1.7910 - accuracy: 0.2392 - val_loss: 1.7907 - val_accuracy: 0.2076\n",
            "\n",
            "Epoch 00003: val_accuracy did not improve from 0.28958\n",
            "Epoch 4/100\n",
            "53/53 [==============================] - 521s 10s/step - loss: 1.7907 - accuracy: 0.2368 - val_loss: 1.7904 - val_accuracy: 0.2771\n",
            "\n",
            "Epoch 00004: val_accuracy did not improve from 0.28958\n",
            "Epoch 5/100\n",
            "53/53 [==============================] - 528s 10s/step - loss: 1.7903 - accuracy: 0.2726 - val_loss: 1.7900 - val_accuracy: 0.3354\n",
            "\n",
            "Epoch 00005: val_accuracy improved from 0.28958 to 0.33542, saving model to best_model_vgg16.h5\n",
            "Epoch 6/100\n",
            "53/53 [==============================] - 526s 10s/step - loss: 1.7900 - accuracy: 0.3063 - val_loss: 1.7895 - val_accuracy: 0.3181\n",
            "\n",
            "Epoch 00006: val_accuracy did not improve from 0.33542\n",
            "Epoch 7/100\n",
            "53/53 [==============================] - 539s 10s/step - loss: 1.7895 - accuracy: 0.3097 - val_loss: 1.7890 - val_accuracy: 0.3465\n",
            "\n",
            "Epoch 00007: val_accuracy improved from 0.33542 to 0.34653, saving model to best_model_vgg16.h5\n",
            "Epoch 8/100\n",
            "53/53 [==============================] - 544s 10s/step - loss: 1.7888 - accuracy: 0.3184 - val_loss: 1.7882 - val_accuracy: 0.3299\n",
            "\n",
            "Epoch 00008: val_accuracy did not improve from 0.34653\n",
            "Epoch 9/100\n",
            "53/53 [==============================] - 554s 10s/step - loss: 1.7879 - accuracy: 0.3560 - val_loss: 1.7871 - val_accuracy: 0.3146\n",
            "\n",
            "Epoch 00009: val_accuracy did not improve from 0.34653\n",
            "Epoch 10/100\n",
            "53/53 [==============================] - 564s 11s/step - loss: 1.7866 - accuracy: 0.3296 - val_loss: 1.7857 - val_accuracy: 0.3458\n",
            "\n",
            "Epoch 00010: val_accuracy did not improve from 0.34653\n",
            "Epoch 11/100\n",
            "53/53 [==============================] - 536s 10s/step - loss: 1.7851 - accuracy: 0.3408 - val_loss: 1.7838 - val_accuracy: 0.3153\n",
            "\n",
            "Epoch 00011: val_accuracy did not improve from 0.34653\n",
            "Epoch 12/100\n",
            "53/53 [==============================] - 521s 10s/step - loss: 1.7832 - accuracy: 0.3081 - val_loss: 1.7809 - val_accuracy: 0.3215\n",
            "\n",
            "Epoch 00012: val_accuracy did not improve from 0.34653\n",
            "Epoch 13/100\n",
            "53/53 [==============================] - 537s 10s/step - loss: 1.7794 - accuracy: 0.3156 - val_loss: 1.7765 - val_accuracy: 0.3465\n",
            "\n",
            "Epoch 00013: val_accuracy did not improve from 0.34653\n",
            "Epoch 14/100\n",
            "53/53 [==============================] - 524s 10s/step - loss: 1.7746 - accuracy: 0.3433 - val_loss: 1.7694 - val_accuracy: 0.2611\n",
            "\n",
            "Epoch 00014: val_accuracy did not improve from 0.34653\n",
            "Epoch 15/100\n",
            "53/53 [==============================] - 528s 10s/step - loss: 1.7650 - accuracy: 0.2915 - val_loss: 1.7510 - val_accuracy: 0.3007\n",
            "\n",
            "Epoch 00015: val_accuracy did not improve from 0.34653\n",
            "Epoch 16/100\n",
            "53/53 [==============================] - 533s 10s/step - loss: 1.7429 - accuracy: 0.2919 - val_loss: 1.7136 - val_accuracy: 0.3306\n",
            "\n",
            "Epoch 00016: val_accuracy did not improve from 0.34653\n",
            "Epoch 17/100\n",
            "53/53 [==============================] - 536s 10s/step - loss: 1.7082 - accuracy: 0.3174 - val_loss: 1.6266 - val_accuracy: 0.3410\n",
            "\n",
            "Epoch 00017: val_accuracy did not improve from 0.34653\n",
            "Epoch 18/100\n",
            "53/53 [==============================] - 536s 10s/step - loss: 1.6410 - accuracy: 0.3138 - val_loss: 1.6315 - val_accuracy: 0.3208\n",
            "\n",
            "Epoch 00018: val_accuracy did not improve from 0.34653\n",
            "Epoch 19/100\n",
            "53/53 [==============================] - 527s 10s/step - loss: 1.6107 - accuracy: 0.3287 - val_loss: 1.6024 - val_accuracy: 0.3229\n",
            "\n",
            "Epoch 00019: val_accuracy did not improve from 0.34653\n",
            "Epoch 20/100\n",
            "53/53 [==============================] - 530s 10s/step - loss: 1.6133 - accuracy: 0.3294 - val_loss: 1.5773 - val_accuracy: 0.3389\n",
            "\n",
            "Epoch 00020: val_accuracy did not improve from 0.34653\n",
            "Epoch 21/100\n",
            "26/53 [=============>................] - ETA: 4:07 - loss: 1.5798 - accuracy: 0.3335"
          ],
          "name": "stdout"
        },
        {
          "output_type": "error",
          "ename": "KeyboardInterrupt",
          "evalue": "",
          "traceback": [
            "\u001b[1;31m---------------------------------------------------------------------------\u001b[0m",
            "\u001b[1;31mKeyboardInterrupt\u001b[0m                         Traceback (most recent call last)",
            "\u001b[1;32m<ipython-input-89-8c8f1321384b>\u001b[0m in \u001b[0;36m<module>\u001b[1;34m\u001b[0m\n\u001b[0;32m     14\u001b[0m \u001b[0mmodel_vgg\u001b[0m \u001b[1;33m=\u001b[0m \u001b[0mVGG16\u001b[0m\u001b[1;33m(\u001b[0m\u001b[1;33m)\u001b[0m\u001b[1;33m\u001b[0m\u001b[1;33m\u001b[0m\u001b[0m\n\u001b[0;32m     15\u001b[0m \u001b[1;31m# Fit model\u001b[0m\u001b[1;33m\u001b[0m\u001b[1;33m\u001b[0m\u001b[1;33m\u001b[0m\u001b[0m\n\u001b[1;32m---> 16\u001b[1;33m history = model_vgg.fit_generator(training_set, \n\u001b[0m\u001b[0;32m     17\u001b[0m                               \u001b[0msteps_per_epoch\u001b[0m\u001b[1;33m=\u001b[0m\u001b[0mlen\u001b[0m\u001b[1;33m(\u001b[0m\u001b[0mtraining_set\u001b[0m\u001b[1;33m)\u001b[0m\u001b[1;33m,\u001b[0m\u001b[1;33m\u001b[0m\u001b[1;33m\u001b[0m\u001b[0m\n\u001b[0;32m     18\u001b[0m                               \u001b[0mvalidation_data\u001b[0m\u001b[1;33m=\u001b[0m\u001b[0mtest_set\u001b[0m\u001b[1;33m,\u001b[0m\u001b[1;33m\u001b[0m\u001b[1;33m\u001b[0m\u001b[0m\n",
            "\u001b[1;32m~\\anaconda3\\lib\\site-packages\\tensorflow\\python\\keras\\engine\\training.py\u001b[0m in \u001b[0;36mfit_generator\u001b[1;34m(self, generator, steps_per_epoch, epochs, verbose, callbacks, validation_data, validation_steps, validation_freq, class_weight, max_queue_size, workers, use_multiprocessing, shuffle, initial_epoch)\u001b[0m\n\u001b[0;32m   1845\u001b[0m                   \u001b[1;34m'will be removed in a future version. '\u001b[0m\u001b[1;33m\u001b[0m\u001b[1;33m\u001b[0m\u001b[0m\n\u001b[0;32m   1846\u001b[0m                   'Please use `Model.fit`, which supports generators.')\n\u001b[1;32m-> 1847\u001b[1;33m     return self.fit(\n\u001b[0m\u001b[0;32m   1848\u001b[0m         \u001b[0mgenerator\u001b[0m\u001b[1;33m,\u001b[0m\u001b[1;33m\u001b[0m\u001b[1;33m\u001b[0m\u001b[0m\n\u001b[0;32m   1849\u001b[0m         \u001b[0msteps_per_epoch\u001b[0m\u001b[1;33m=\u001b[0m\u001b[0msteps_per_epoch\u001b[0m\u001b[1;33m,\u001b[0m\u001b[1;33m\u001b[0m\u001b[1;33m\u001b[0m\u001b[0m\n",
            "\u001b[1;32m~\\anaconda3\\lib\\site-packages\\tensorflow\\python\\keras\\engine\\training.py\u001b[0m in \u001b[0;36mfit\u001b[1;34m(self, x, y, batch_size, epochs, verbose, callbacks, validation_split, validation_data, shuffle, class_weight, sample_weight, initial_epoch, steps_per_epoch, validation_steps, validation_batch_size, validation_freq, max_queue_size, workers, use_multiprocessing)\u001b[0m\n\u001b[0;32m   1098\u001b[0m                 _r=1):\n\u001b[0;32m   1099\u001b[0m               \u001b[0mcallbacks\u001b[0m\u001b[1;33m.\u001b[0m\u001b[0mon_train_batch_begin\u001b[0m\u001b[1;33m(\u001b[0m\u001b[0mstep\u001b[0m\u001b[1;33m)\u001b[0m\u001b[1;33m\u001b[0m\u001b[1;33m\u001b[0m\u001b[0m\n\u001b[1;32m-> 1100\u001b[1;33m               \u001b[0mtmp_logs\u001b[0m \u001b[1;33m=\u001b[0m \u001b[0mself\u001b[0m\u001b[1;33m.\u001b[0m\u001b[0mtrain_function\u001b[0m\u001b[1;33m(\u001b[0m\u001b[0miterator\u001b[0m\u001b[1;33m)\u001b[0m\u001b[1;33m\u001b[0m\u001b[1;33m\u001b[0m\u001b[0m\n\u001b[0m\u001b[0;32m   1101\u001b[0m               \u001b[1;32mif\u001b[0m \u001b[0mdata_handler\u001b[0m\u001b[1;33m.\u001b[0m\u001b[0mshould_sync\u001b[0m\u001b[1;33m:\u001b[0m\u001b[1;33m\u001b[0m\u001b[1;33m\u001b[0m\u001b[0m\n\u001b[0;32m   1102\u001b[0m                 \u001b[0mcontext\u001b[0m\u001b[1;33m.\u001b[0m\u001b[0masync_wait\u001b[0m\u001b[1;33m(\u001b[0m\u001b[1;33m)\u001b[0m\u001b[1;33m\u001b[0m\u001b[1;33m\u001b[0m\u001b[0m\n",
            "\u001b[1;32m~\\anaconda3\\lib\\site-packages\\tensorflow\\python\\eager\\def_function.py\u001b[0m in \u001b[0;36m__call__\u001b[1;34m(self, *args, **kwds)\u001b[0m\n\u001b[0;32m    826\u001b[0m     \u001b[0mtracing_count\u001b[0m \u001b[1;33m=\u001b[0m \u001b[0mself\u001b[0m\u001b[1;33m.\u001b[0m\u001b[0mexperimental_get_tracing_count\u001b[0m\u001b[1;33m(\u001b[0m\u001b[1;33m)\u001b[0m\u001b[1;33m\u001b[0m\u001b[1;33m\u001b[0m\u001b[0m\n\u001b[0;32m    827\u001b[0m     \u001b[1;32mwith\u001b[0m \u001b[0mtrace\u001b[0m\u001b[1;33m.\u001b[0m\u001b[0mTrace\u001b[0m\u001b[1;33m(\u001b[0m\u001b[0mself\u001b[0m\u001b[1;33m.\u001b[0m\u001b[0m_name\u001b[0m\u001b[1;33m)\u001b[0m \u001b[1;32mas\u001b[0m \u001b[0mtm\u001b[0m\u001b[1;33m:\u001b[0m\u001b[1;33m\u001b[0m\u001b[1;33m\u001b[0m\u001b[0m\n\u001b[1;32m--> 828\u001b[1;33m       \u001b[0mresult\u001b[0m \u001b[1;33m=\u001b[0m \u001b[0mself\u001b[0m\u001b[1;33m.\u001b[0m\u001b[0m_call\u001b[0m\u001b[1;33m(\u001b[0m\u001b[1;33m*\u001b[0m\u001b[0margs\u001b[0m\u001b[1;33m,\u001b[0m \u001b[1;33m**\u001b[0m\u001b[0mkwds\u001b[0m\u001b[1;33m)\u001b[0m\u001b[1;33m\u001b[0m\u001b[1;33m\u001b[0m\u001b[0m\n\u001b[0m\u001b[0;32m    829\u001b[0m       \u001b[0mcompiler\u001b[0m \u001b[1;33m=\u001b[0m \u001b[1;34m\"xla\"\u001b[0m \u001b[1;32mif\u001b[0m \u001b[0mself\u001b[0m\u001b[1;33m.\u001b[0m\u001b[0m_experimental_compile\u001b[0m \u001b[1;32melse\u001b[0m \u001b[1;34m\"nonXla\"\u001b[0m\u001b[1;33m\u001b[0m\u001b[1;33m\u001b[0m\u001b[0m\n\u001b[0;32m    830\u001b[0m       \u001b[0mnew_tracing_count\u001b[0m \u001b[1;33m=\u001b[0m \u001b[0mself\u001b[0m\u001b[1;33m.\u001b[0m\u001b[0mexperimental_get_tracing_count\u001b[0m\u001b[1;33m(\u001b[0m\u001b[1;33m)\u001b[0m\u001b[1;33m\u001b[0m\u001b[1;33m\u001b[0m\u001b[0m\n",
            "\u001b[1;32m~\\anaconda3\\lib\\site-packages\\tensorflow\\python\\eager\\def_function.py\u001b[0m in \u001b[0;36m_call\u001b[1;34m(self, *args, **kwds)\u001b[0m\n\u001b[0;32m    853\u001b[0m       \u001b[1;31m# In this case we have created variables on the first call, so we run the\u001b[0m\u001b[1;33m\u001b[0m\u001b[1;33m\u001b[0m\u001b[1;33m\u001b[0m\u001b[0m\n\u001b[0;32m    854\u001b[0m       \u001b[1;31m# defunned version which is guaranteed to never create variables.\u001b[0m\u001b[1;33m\u001b[0m\u001b[1;33m\u001b[0m\u001b[1;33m\u001b[0m\u001b[0m\n\u001b[1;32m--> 855\u001b[1;33m       \u001b[1;32mreturn\u001b[0m \u001b[0mself\u001b[0m\u001b[1;33m.\u001b[0m\u001b[0m_stateless_fn\u001b[0m\u001b[1;33m(\u001b[0m\u001b[1;33m*\u001b[0m\u001b[0margs\u001b[0m\u001b[1;33m,\u001b[0m \u001b[1;33m**\u001b[0m\u001b[0mkwds\u001b[0m\u001b[1;33m)\u001b[0m  \u001b[1;31m# pylint: disable=not-callable\u001b[0m\u001b[1;33m\u001b[0m\u001b[1;33m\u001b[0m\u001b[0m\n\u001b[0m\u001b[0;32m    856\u001b[0m     \u001b[1;32melif\u001b[0m \u001b[0mself\u001b[0m\u001b[1;33m.\u001b[0m\u001b[0m_stateful_fn\u001b[0m \u001b[1;32mis\u001b[0m \u001b[1;32mnot\u001b[0m \u001b[1;32mNone\u001b[0m\u001b[1;33m:\u001b[0m\u001b[1;33m\u001b[0m\u001b[1;33m\u001b[0m\u001b[0m\n\u001b[0;32m    857\u001b[0m       \u001b[1;31m# Release the lock early so that multiple threads can perform the call\u001b[0m\u001b[1;33m\u001b[0m\u001b[1;33m\u001b[0m\u001b[1;33m\u001b[0m\u001b[0m\n",
            "\u001b[1;32m~\\anaconda3\\lib\\site-packages\\tensorflow\\python\\eager\\function.py\u001b[0m in \u001b[0;36m__call__\u001b[1;34m(self, *args, **kwargs)\u001b[0m\n\u001b[0;32m   2940\u001b[0m       (graph_function,\n\u001b[0;32m   2941\u001b[0m        filtered_flat_args) = self._maybe_define_function(args, kwargs)\n\u001b[1;32m-> 2942\u001b[1;33m     return graph_function._call_flat(\n\u001b[0m\u001b[0;32m   2943\u001b[0m         filtered_flat_args, captured_inputs=graph_function.captured_inputs)  # pylint: disable=protected-access\n\u001b[0;32m   2944\u001b[0m \u001b[1;33m\u001b[0m\u001b[0m\n",
            "\u001b[1;32m~\\anaconda3\\lib\\site-packages\\tensorflow\\python\\eager\\function.py\u001b[0m in \u001b[0;36m_call_flat\u001b[1;34m(self, args, captured_inputs, cancellation_manager)\u001b[0m\n\u001b[0;32m   1916\u001b[0m         and executing_eagerly):\n\u001b[0;32m   1917\u001b[0m       \u001b[1;31m# No tape is watching; skip to running the function.\u001b[0m\u001b[1;33m\u001b[0m\u001b[1;33m\u001b[0m\u001b[1;33m\u001b[0m\u001b[0m\n\u001b[1;32m-> 1918\u001b[1;33m       return self._build_call_outputs(self._inference_function.call(\n\u001b[0m\u001b[0;32m   1919\u001b[0m           ctx, args, cancellation_manager=cancellation_manager))\n\u001b[0;32m   1920\u001b[0m     forward_backward = self._select_forward_and_backward_functions(\n",
            "\u001b[1;32m~\\anaconda3\\lib\\site-packages\\tensorflow\\python\\eager\\function.py\u001b[0m in \u001b[0;36mcall\u001b[1;34m(self, ctx, args, cancellation_manager)\u001b[0m\n\u001b[0;32m    553\u001b[0m       \u001b[1;32mwith\u001b[0m \u001b[0m_InterpolateFunctionError\u001b[0m\u001b[1;33m(\u001b[0m\u001b[0mself\u001b[0m\u001b[1;33m)\u001b[0m\u001b[1;33m:\u001b[0m\u001b[1;33m\u001b[0m\u001b[1;33m\u001b[0m\u001b[0m\n\u001b[0;32m    554\u001b[0m         \u001b[1;32mif\u001b[0m \u001b[0mcancellation_manager\u001b[0m \u001b[1;32mis\u001b[0m \u001b[1;32mNone\u001b[0m\u001b[1;33m:\u001b[0m\u001b[1;33m\u001b[0m\u001b[1;33m\u001b[0m\u001b[0m\n\u001b[1;32m--> 555\u001b[1;33m           outputs = execute.execute(\n\u001b[0m\u001b[0;32m    556\u001b[0m               \u001b[0mstr\u001b[0m\u001b[1;33m(\u001b[0m\u001b[0mself\u001b[0m\u001b[1;33m.\u001b[0m\u001b[0msignature\u001b[0m\u001b[1;33m.\u001b[0m\u001b[0mname\u001b[0m\u001b[1;33m)\u001b[0m\u001b[1;33m,\u001b[0m\u001b[1;33m\u001b[0m\u001b[1;33m\u001b[0m\u001b[0m\n\u001b[0;32m    557\u001b[0m               \u001b[0mnum_outputs\u001b[0m\u001b[1;33m=\u001b[0m\u001b[0mself\u001b[0m\u001b[1;33m.\u001b[0m\u001b[0m_num_outputs\u001b[0m\u001b[1;33m,\u001b[0m\u001b[1;33m\u001b[0m\u001b[1;33m\u001b[0m\u001b[0m\n",
            "\u001b[1;32m~\\anaconda3\\lib\\site-packages\\tensorflow\\python\\eager\\execute.py\u001b[0m in \u001b[0;36mquick_execute\u001b[1;34m(op_name, num_outputs, inputs, attrs, ctx, name)\u001b[0m\n\u001b[0;32m     57\u001b[0m   \u001b[1;32mtry\u001b[0m\u001b[1;33m:\u001b[0m\u001b[1;33m\u001b[0m\u001b[1;33m\u001b[0m\u001b[0m\n\u001b[0;32m     58\u001b[0m     \u001b[0mctx\u001b[0m\u001b[1;33m.\u001b[0m\u001b[0mensure_initialized\u001b[0m\u001b[1;33m(\u001b[0m\u001b[1;33m)\u001b[0m\u001b[1;33m\u001b[0m\u001b[1;33m\u001b[0m\u001b[0m\n\u001b[1;32m---> 59\u001b[1;33m     tensors = pywrap_tfe.TFE_Py_Execute(ctx._handle, device_name, op_name,\n\u001b[0m\u001b[0;32m     60\u001b[0m                                         inputs, attrs, num_outputs)\n\u001b[0;32m     61\u001b[0m   \u001b[1;32mexcept\u001b[0m \u001b[0mcore\u001b[0m\u001b[1;33m.\u001b[0m\u001b[0m_NotOkStatusException\u001b[0m \u001b[1;32mas\u001b[0m \u001b[0me\u001b[0m\u001b[1;33m:\u001b[0m\u001b[1;33m\u001b[0m\u001b[1;33m\u001b[0m\u001b[0m\n",
            "\u001b[1;31mKeyboardInterrupt\u001b[0m: "
          ]
        }
      ]
    },
    {
      "cell_type": "code",
      "metadata": {
        "id": "ebvAcYdzraeM"
      },
      "source": [
        "# Create a new model instance to upload the best saved model there\n",
        "# because our trained model finished training with the final accuracy not the best possible\n",
        "model = VGG16()\n",
        "\n",
        "# Load the previously saved weights\n",
        "model.load_weights('best_model_vgg16.h5')\n",
        "\n",
        "# Evaluate model\n",
        "\n",
        "_, acc = model.evaluate_generator(test_set, steps=len(test_set), verbose=0)\n",
        "print(\"Accuracy: %.4f\" % (acc * 100.0))"
      ],
      "id": "ebvAcYdzraeM",
      "execution_count": null,
      "outputs": []
    },
    {
      "cell_type": "code",
      "metadata": {
        "id": "ObXmAYS-raeM"
      },
      "source": [
        "# Build graphs\n",
        "graph_accuracy_loss(history)"
      ],
      "id": "ObXmAYS-raeM",
      "execution_count": null,
      "outputs": []
    },
    {
      "cell_type": "code",
      "metadata": {
        "id": "Vg_pZjYTraeM"
      },
      "source": [
        ""
      ],
      "id": "Vg_pZjYTraeM",
      "execution_count": null,
      "outputs": []
    },
    {
      "cell_type": "code",
      "metadata": {
        "id": "tkH0aNXjraeM"
      },
      "source": [
        ""
      ],
      "id": "tkH0aNXjraeM",
      "execution_count": null,
      "outputs": []
    },
    {
      "cell_type": "code",
      "metadata": {
        "colab": {
          "base_uri": "https://localhost:8080/"
        },
        "id": "0dyH1GOrr5sc",
        "outputId": "5241dded-10a4-4e22-9349-692137ab025c"
      },
      "source": [
        "!git clone https://github.com/svasylyeva/AWS"
      ],
      "id": "0dyH1GOrr5sc",
      "execution_count": 15,
      "outputs": [
        {
          "output_type": "stream",
          "text": [
            "Cloning into 'AWS'...\n",
            "remote: Enumerating objects: 4818, done.\u001b[K\n",
            "remote: Counting objects: 100% (4818/4818), done.\u001b[K\n",
            "remote: Compressing objects: 100% (4818/4818), done.\u001b[K\n",
            "remote: Total 4818 (delta 1), reused 4817 (delta 0), pack-reused 0\u001b[K\n",
            "Receiving objects: 100% (4818/4818), 73.21 MiB | 43.31 MiB/s, done.\n",
            "Resolving deltas: 100% (1/1), done.\n"
          ],
          "name": "stdout"
        }
      ]
    },
    {
      "cell_type": "code",
      "metadata": {
        "colab": {
          "base_uri": "https://localhost:8080/",
          "height": 305
        },
        "id": "NvsypLo6tqh7",
        "outputId": "a334ec91-31ea-4b48-84c0-442410f0d835"
      },
      "source": [
        "from google.colab import files\n",
        "files.download('best_model_blocks_bn.h5')"
      ],
      "id": "NvsypLo6tqh7",
      "execution_count": 49,
      "outputs": [
        {
          "output_type": "error",
          "ename": "FileNotFoundError",
          "evalue": "ignored",
          "traceback": [
            "\u001b[0;31m---------------------------------------------------------------------------\u001b[0m",
            "\u001b[0;31mFileNotFoundError\u001b[0m                         Traceback (most recent call last)",
            "\u001b[0;32m<ipython-input-49-231023b514b4>\u001b[0m in \u001b[0;36m<module>\u001b[0;34m()\u001b[0m\n\u001b[1;32m      1\u001b[0m \u001b[0;32mfrom\u001b[0m \u001b[0mgoogle\u001b[0m\u001b[0;34m.\u001b[0m\u001b[0mcolab\u001b[0m \u001b[0;32mimport\u001b[0m \u001b[0mfiles\u001b[0m\u001b[0;34m\u001b[0m\u001b[0;34m\u001b[0m\u001b[0m\n\u001b[0;32m----> 2\u001b[0;31m \u001b[0mfiles\u001b[0m\u001b[0;34m.\u001b[0m\u001b[0mdownload\u001b[0m\u001b[0;34m(\u001b[0m\u001b[0;34m'best_model_blocks_bn.h5'\u001b[0m\u001b[0;34m)\u001b[0m\u001b[0;34m\u001b[0m\u001b[0;34m\u001b[0m\u001b[0m\n\u001b[0m",
            "\u001b[0;32m/usr/local/lib/python3.7/dist-packages/google/colab/files.py\u001b[0m in \u001b[0;36mdownload\u001b[0;34m(filename)\u001b[0m\n\u001b[1;32m    141\u001b[0m       \u001b[0;32mraise\u001b[0m \u001b[0mOSError\u001b[0m\u001b[0;34m(\u001b[0m\u001b[0mmsg\u001b[0m\u001b[0;34m)\u001b[0m\u001b[0;34m\u001b[0m\u001b[0;34m\u001b[0m\u001b[0m\n\u001b[1;32m    142\u001b[0m     \u001b[0;32melse\u001b[0m\u001b[0;34m:\u001b[0m\u001b[0;34m\u001b[0m\u001b[0;34m\u001b[0m\u001b[0m\n\u001b[0;32m--> 143\u001b[0;31m       \u001b[0;32mraise\u001b[0m \u001b[0mFileNotFoundError\u001b[0m\u001b[0;34m(\u001b[0m\u001b[0mmsg\u001b[0m\u001b[0;34m)\u001b[0m  \u001b[0;31m# pylint: disable=undefined-variable\u001b[0m\u001b[0;34m\u001b[0m\u001b[0;34m\u001b[0m\u001b[0m\n\u001b[0m\u001b[1;32m    144\u001b[0m \u001b[0;34m\u001b[0m\u001b[0m\n\u001b[1;32m    145\u001b[0m   \u001b[0mcomm_manager\u001b[0m \u001b[0;34m=\u001b[0m \u001b[0m_IPython\u001b[0m\u001b[0;34m.\u001b[0m\u001b[0mget_ipython\u001b[0m\u001b[0;34m(\u001b[0m\u001b[0;34m)\u001b[0m\u001b[0;34m.\u001b[0m\u001b[0mkernel\u001b[0m\u001b[0;34m.\u001b[0m\u001b[0mcomm_manager\u001b[0m\u001b[0;34m\u001b[0m\u001b[0;34m\u001b[0m\u001b[0m\n",
            "\u001b[0;31mFileNotFoundError\u001b[0m: Cannot find file: best_model_blocks_bn.h5"
          ]
        }
      ]
    },
    {
      "cell_type": "code",
      "metadata": {
        "colab": {
          "base_uri": "https://localhost:8080/"
        },
        "id": "cD_wZFiZBALE",
        "outputId": "053b990a-71e1-4883-e4bb-863005102509"
      },
      "source": [
        "!ls"
      ],
      "id": "cD_wZFiZBALE",
      "execution_count": 48,
      "outputs": [
        {
          "output_type": "stream",
          "text": [
            "train  val\n"
          ],
          "name": "stdout"
        }
      ]
    },
    {
      "cell_type": "code",
      "metadata": {
        "id": "sFh2zwLoBBPL"
      },
      "source": [
        ""
      ],
      "id": "sFh2zwLoBBPL",
      "execution_count": null,
      "outputs": []
    }
  ]
}